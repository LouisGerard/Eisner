{
 "cells": [
  {
   "cell_type": "markdown",
   "metadata": {},
   "source": [
    "# Dependency Parsing with Eisner\n",
    "Par Louis GERARD & Tiago CORTINHAL"
   ]
  },
  {
   "cell_type": "code",
   "execution_count": 1,
   "metadata": {},
   "outputs": [
    {
     "name": "stderr",
     "output_type": "stream",
     "text": [
      "Using TensorFlow backend.\n"
     ]
    }
   ],
   "source": [
    "import sys\n",
    "venv_root = '/var/lib/vz/data/g13005245/DEEP/'\n",
    "sys.path.append(venv_root + 'lib/python3.5/site-packages')\n",
    "\n",
    "import warnings\n",
    "warnings.filterwarnings('ignore')\n",
    "\n",
    "import utils\n",
    "import f1\n",
    "import f2\n",
    "\n",
    "import time\n",
    "import pandas as pd\n",
    "import numpy as np\n",
    "import keras\n",
    "import matplotlib.pyplot as plt\n",
    "%matplotlib inline\n",
    "from gensim.models import Word2Vec"
   ]
  },
  {
   "cell_type": "markdown",
   "metadata": {},
   "source": [
    "## Features 1\n",
    "\n",
    "We start building a model on these features :\n",
    "- Governor POS\n",
    "- Dependant POS\n",
    "- Distance between these words"
   ]
  },
  {
   "cell_type": "markdown",
   "metadata": {},
   "source": [
    "### Read data\n",
    "\n",
    "We read the conllu file to get aall the info we need. In order to make this reusable, we can add any feature to the final list by adding its index to `features_enabled`. Here we have :\n",
    "- the index, to identify our token\n",
    "- the part of speech, which we want to pass to our model\n",
    "- the governor index, to build pairs"
   ]
  },
  {
   "cell_type": "code",
   "execution_count": 2,
   "metadata": {},
   "outputs": [
    {
     "data": {
      "text/html": [
       "<div>\n",
       "<style scoped>\n",
       "    .dataframe tbody tr th:only-of-type {\n",
       "        vertical-align: middle;\n",
       "    }\n",
       "\n",
       "    .dataframe tbody tr th {\n",
       "        vertical-align: top;\n",
       "    }\n",
       "\n",
       "    .dataframe thead th {\n",
       "        text-align: right;\n",
       "    }\n",
       "</style>\n",
       "<table border=\"1\" class=\"dataframe\">\n",
       "  <thead>\n",
       "    <tr style=\"text-align: right;\">\n",
       "      <th></th>\n",
       "      <th>0</th>\n",
       "      <th>1</th>\n",
       "      <th>2</th>\n",
       "      <th>3</th>\n",
       "    </tr>\n",
       "  </thead>\n",
       "  <tbody>\n",
       "    <tr>\n",
       "      <th>0</th>\n",
       "      <td>0</td>\n",
       "      <td>ROOT</td>\n",
       "      <td>0</td>\n",
       "      <td>root</td>\n",
       "    </tr>\n",
       "    <tr>\n",
       "      <th>1</th>\n",
       "      <td>1</td>\n",
       "      <td>ADV</td>\n",
       "      <td>5</td>\n",
       "      <td>advmod</td>\n",
       "    </tr>\n",
       "    <tr>\n",
       "      <th>2</th>\n",
       "      <td>2</td>\n",
       "      <td>PUNCT</td>\n",
       "      <td>5</td>\n",
       "      <td>punct</td>\n",
       "    </tr>\n",
       "    <tr>\n",
       "      <th>3</th>\n",
       "      <td>3</td>\n",
       "      <td>DET</td>\n",
       "      <td>4</td>\n",
       "      <td>det</td>\n",
       "    </tr>\n",
       "    <tr>\n",
       "      <th>4</th>\n",
       "      <td>4</td>\n",
       "      <td>NOUN</td>\n",
       "      <td>5</td>\n",
       "      <td>nsubj</td>\n",
       "    </tr>\n",
       "    <tr>\n",
       "      <th>5</th>\n",
       "      <td>5</td>\n",
       "      <td>VERB</td>\n",
       "      <td>0</td>\n",
       "      <td>root</td>\n",
       "    </tr>\n",
       "    <tr>\n",
       "      <th>6</th>\n",
       "      <td>6</td>\n",
       "      <td>DET</td>\n",
       "      <td>7</td>\n",
       "      <td>det</td>\n",
       "    </tr>\n",
       "    <tr>\n",
       "      <th>7</th>\n",
       "      <td>7</td>\n",
       "      <td>NOUN</td>\n",
       "      <td>5</td>\n",
       "      <td>obj</td>\n",
       "    </tr>\n",
       "    <tr>\n",
       "      <th>8</th>\n",
       "      <td>8</td>\n",
       "      <td>PUNCT</td>\n",
       "      <td>5</td>\n",
       "      <td>punct</td>\n",
       "    </tr>\n",
       "  </tbody>\n",
       "</table>\n",
       "</div>"
      ],
      "text/plain": [
       "   0      1  2       3\n",
       "0  0   ROOT  0    root\n",
       "1  1    ADV  5  advmod\n",
       "2  2  PUNCT  5   punct\n",
       "3  3    DET  4     det\n",
       "4  4   NOUN  5   nsubj\n",
       "5  5   VERB  0    root\n",
       "6  6    DET  7     det\n",
       "7  7   NOUN  5     obj\n",
       "8  8  PUNCT  5   punct"
      ]
     },
     "execution_count": 2,
     "metadata": {},
     "output_type": "execute_result"
    }
   ],
   "source": [
    "sentence = f1.sentences_fr_train[3]\n",
    "pd.DataFrame(sentence)"
   ]
  },
  {
   "cell_type": "markdown",
   "metadata": {},
   "source": [
    "### Projectivity"
   ]
  },
  {
   "cell_type": "code",
   "execution_count": 3,
   "metadata": {},
   "outputs": [
    {
     "data": {
      "text/plain": [
       "(1169, '8.03 %')"
      ]
     },
     "execution_count": 3,
     "metadata": {},
     "output_type": "execute_result"
    }
   ],
   "source": [
    "counter_p, proportion_p = utils.count_projectives(f1.sentences_fr_train, f1)\n",
    "counter_p, '%.2f %%' % proportion_p"
   ]
  },
  {
   "cell_type": "code",
   "execution_count": 4,
   "metadata": {},
   "outputs": [
    {
     "data": {
      "text/plain": [
       "(113, '7.65 %')"
      ]
     },
     "execution_count": 4,
     "metadata": {},
     "output_type": "execute_result"
    }
   ],
   "source": [
    "counter_p, proportion_p = utils.count_projectives(f1.sentences_fr_dev, f1)\n",
    "counter_p, '%.2f %%' % proportion_p"
   ]
  },
  {
   "cell_type": "code",
   "execution_count": 5,
   "metadata": {},
   "outputs": [
    {
     "data": {
      "text/plain": [
       "(18, '4.33 %')"
      ]
     },
     "execution_count": 5,
     "metadata": {},
     "output_type": "execute_result"
    }
   ],
   "source": [
    "counter_p, proportion_p = utils.count_projectives(f1.sentences_fr_test, f1)\n",
    "counter_p, '%.2f %%' % proportion_p"
   ]
  },
  {
   "cell_type": "markdown",
   "metadata": {},
   "source": [
    "### Creating dataset"
   ]
  },
  {
   "cell_type": "markdown",
   "metadata": {},
   "source": [
    "Now we have all the data we need, we can process it to build our dataset. \n",
    "\n",
    "We can't pass directly the part of speech tags to our model, so we need to encod it to an one hot vector. We can compute the distances with the indexes. \n",
    "\n",
    "We can still reuse this code by adapting `index_i`, `pos_i` and `governor_i` to the previous final result and process the added data in `create_example()`. \n",
    "\n",
    "The targets are a bit simplitic because all we need to compute it is the distance. A single neuron with linear activation function, a weight of 1 for the distance and weights of 0 for the POS can do the job. "
   ]
  },
  {
   "cell_type": "markdown",
   "metadata": {},
   "source": [
    "#### Without negatives"
   ]
  },
  {
   "cell_type": "code",
   "execution_count": 6,
   "metadata": {},
   "outputs": [
    {
     "data": {
      "text/plain": [
       "((356638, 37), (356638, 39))"
      ]
     },
     "execution_count": 6,
     "metadata": {},
     "output_type": "execute_result"
    }
   ],
   "source": [
    "x_train, y_train = utils.create_dataset(f1.sentences_fr_train, f1)\n",
    "x_train.shape, y_train.shape"
   ]
  },
  {
   "cell_type": "code",
   "execution_count": 7,
   "metadata": {},
   "outputs": [
    {
     "data": {
      "text/plain": [
       "((10020, 37), (10020, 39))"
      ]
     },
     "execution_count": 7,
     "metadata": {},
     "output_type": "execute_result"
    }
   ],
   "source": [
    "x_test, y_test = utils.create_dataset(f1.sentences_fr_test, f1)\n",
    "x_test.shape, y_test.shape"
   ]
  },
  {
   "cell_type": "code",
   "execution_count": 5,
   "metadata": {},
   "outputs": [
    {
     "name": "stdout",
     "output_type": "stream",
     "text": [
      "_________________________________________________________________\n",
      "Layer (type)                 Output Shape              Param #   \n",
      "=================================================================\n",
      "dense_1 (Dense)              (None, 39)                1482      \n",
      "=================================================================\n",
      "Total params: 1,482\n",
      "Trainable params: 1,482\n",
      "Non-trainable params: 0\n",
      "_________________________________________________________________\n"
     ]
    }
   ],
   "source": [
    "model = keras.models.Sequential()\n",
    "model.add(keras.layers.Dense(39, activation='sigmoid', input_dim=37))\n",
    "\n",
    "tensorboard = keras.callbacks.TensorBoard(log_dir=\"logs/{}\".format(time.time()))\n",
    "opt = keras.optimizers.Adam(lr=0.0001)\n",
    "\n",
    "model.compile(opt, 'binary_crossentropy', metrics=['accuracy'])\n",
    "model.summary()"
   ]
  },
  {
   "cell_type": "code",
   "execution_count": 6,
   "metadata": {},
   "outputs": [
    {
     "data": {
      "image/png": "[encoded data removed]",
      "text/plain": [
       "<Figure size 432x288 with 1 Axes>"
      ]
     },
     "metadata": {},
     "output_type": "display_data"
    },
    {
     "data": {
      "image/png": "[encoded data removed]",
      "text/plain": [
       "<Figure size 432x288 with 1 Axes>"
      ]
     },
     "metadata": {},
     "output_type": "display_data"
    }
   ],
   "source": [
    "h = model.fit(x_train, y_train, epochs=100, batch_size=1024, validation_data=(x_test, y_test), verbose=0, callbacks=[tensorboard])\n",
    "\n",
    "x_plt = np.arange(len(h.history['loss']))\n",
    "plt.plot(x_plt, h.history['loss'], label='train')\n",
    "plt.plot(x_plt, h.history['val_loss'], label='test')\n",
    "plt.show()\n",
    "\n",
    "plt.plot(x_plt, h.history['acc'], label='train')\n",
    "plt.plot(x_plt, h.history['val_acc'], label='test')\n",
    "plt.show()"
   ]
  },
  {
   "cell_type": "markdown",
   "metadata": {},
   "source": [
    "#### With negatives"
   ]
  },
  {
   "cell_type": "code",
   "execution_count": 14,
   "metadata": {},
   "outputs": [
    {
     "data": {
      "text/plain": [
       "((713276, 37), (713276, 39))"
      ]
     },
     "execution_count": 14,
     "metadata": {},
     "output_type": "execute_result"
    }
   ],
   "source": [
    "x_train_n, y_train_n = utils.create_dataset(f1.sentences_fr_train, f1, with_negatives=True)\n",
    "x_train_n.shape, y_train_n.shape"
   ]
  },
  {
   "cell_type": "code",
   "execution_count": 15,
   "metadata": {},
   "outputs": [
    {
     "data": {
      "text/plain": [
       "((20040, 37), (20040, 39))"
      ]
     },
     "execution_count": 15,
     "metadata": {},
     "output_type": "execute_result"
    }
   ],
   "source": [
    "x_test_, y_test_ = utils.create_dataset(f1.sentences_fr_test, f1, with_negatives=True)\n",
    "x_test_.shape, y_test_.shape"
   ]
  },
  {
   "cell_type": "code",
   "execution_count": 9,
   "metadata": {},
   "outputs": [
    {
     "name": "stdout",
     "output_type": "stream",
     "text": [
      "_________________________________________________________________\n",
      "Layer (type)                 Output Shape              Param #   \n",
      "=================================================================\n",
      "dense_2 (Dense)              (None, 39)                1482      \n",
      "=================================================================\n",
      "Total params: 1,482\n",
      "Trainable params: 1,482\n",
      "Non-trainable params: 0\n",
      "_________________________________________________________________\n"
     ]
    }
   ],
   "source": [
    "model_n = keras.models.Sequential()\n",
    "model_n.add(keras.layers.Dense(39, activation='softplus', input_dim=37))\n",
    "\n",
    "tensorboard = keras.callbacks.TensorBoard(log_dir=\"logs/{}\".format(time.time()))\n",
    "opt = keras.optimizers.Adam(lr=0.0001)\n",
    "\n",
    "model_n.compile(opt, 'categorical_crossentropy', metrics=['accuracy'])\n",
    "model_n.summary()"
   ]
  },
  {
   "cell_type": "code",
   "execution_count": 10,
   "metadata": {},
   "outputs": [
    {
     "data": {
      "image/png": "[encoded data removed]",
      "text/plain": [
       "<Figure size 432x288 with 1 Axes>"
      ]
     },
     "metadata": {},
     "output_type": "display_data"
    },
    {
     "data": {
      "image/png": "[encoded data removed]",
      "text/plain": [
       "<Figure size 432x288 with 1 Axes>"
      ]
     },
     "metadata": {},
     "output_type": "display_data"
    }
   ],
   "source": [
    "h = model_n.fit(x_train_n, y_train_n, epochs=100, batch_size=1024, validation_data=(x_test_n, y_test_n), verbose=0, callbacks=[tensorboard])\n",
    "\n",
    "x_plt = np.arange(len(h.history['loss']))\n",
    "plt.plot(x_plt, h.history['loss'], label='train')\n",
    "plt.plot(x_plt, h.history['val_loss'], label='test')\n",
    "plt.show()\n",
    "\n",
    "plt.plot(x_plt, h.history['acc'], label='train')\n",
    "plt.plot(x_plt, h.history['val_acc'], label='test')\n",
    "plt.show()"
   ]
  },
  {
   "cell_type": "markdown",
   "metadata": {},
   "source": [
    "### Some tests"
   ]
  },
  {
   "cell_type": "code",
   "execution_count": 26,
   "metadata": {},
   "outputs": [
    {
     "name": "stdout",
     "output_type": "stream",
     "text": [
      "['0' 'ROOT' '0' 'root']\n",
      "Without negatives : punct 0.82372695 [0.04273215 0.9498972 ]\n",
      "With negatives : root 3.730026 [1.5379279e-03 3.2963409e+00] \n",
      "\n",
      "['1' 'ADV' '5' 'advmod']\n",
      "Without negatives : root 0.69907355 [0.9774086  0.02425681]\n",
      "With negatives : advmod 1.4384844 [2.014942   0.03773335] \n",
      "\n",
      "['2' 'PUNCT' '5' 'punct']\n",
      "Without negatives : advmod 0.8843441 [0.99406046 0.00942963]\n",
      "With negatives : punct 3.264047 [2.9647250e+00 8.5019675e-04] \n",
      "\n",
      "['3' 'DET' '4' 'det']\n",
      "Without negatives : punct 0.9315976 [0.9832971  0.01750697]\n",
      "With negatives : det 2.3556888 [2.386002  0.0035459] \n",
      "\n",
      "['4' 'NOUN' '5' 'nsubj']\n",
      "Without negatives : det 0.22905555 [0.5608604 0.4428298]\n",
      "With negatives : nsubj 0.30456993 [0.720085  0.5040278] \n",
      "\n",
      "['5' 'VERB' '0' 'root']\n",
      "Without negatives : nsubj 0.5633286 [0.1127452 0.8705779]\n",
      "With negatives : obl 1.7901536 [0.45987493 3.1041706 ] \n",
      "\n",
      "['6' 'DET' '7' 'det']\n",
      "Without negatives : obl 0.9315976 [0.9832971  0.01750697]\n",
      "With negatives : det 2.3556888 [2.386002  0.0035459] \n",
      "\n",
      "['7' 'NOUN' '5' 'obj']\n",
      "Without negatives : det 0.2254718 [0.68697125 0.31714958]\n",
      "With negatives : nsubj 0.4516464 [1.2939003 0.6856131] \n",
      "\n",
      "['8' 'PUNCT' '5' 'punct']\n",
      "Without negatives : nsubj 0.89005214 [0.99798054 0.00324026]\n",
      "With negatives : punct 4.1140943 [4.7608705e+00 1.9193338e-03] \n",
      "\n"
     ]
    }
   ],
   "source": [
    "for s in sentence:\n",
    "    print(s)\n",
    "    x, _ = f1.create_example(s, sentence[int(s[f1.governor_i])])\n",
    "    prediction = model.predict(x.reshape(1, -1))[0]\n",
    "    prediction_n = model_n.predict(x.reshape(1, -1))[0]\n",
    "    \n",
    "    i2 = np.argmax(prediction[2:])\n",
    "    label2 = utils.onehot_2_label[i]\n",
    "    print('Without negatives :', label2, prediction[i2+2], prediction[:2])\n",
    "\n",
    "    i = np.argmax(prediction_n[2:])\n",
    "    label = utils.onehot_2_label[i]\n",
    "    print('With negatives :', label, prediction_n[i+2], prediction_n[:2], '\\n')"
   ]
  },
  {
   "cell_type": "markdown",
   "metadata": {},
   "source": [
    "### Eisner's algorithm"
   ]
  },
  {
   "cell_type": "markdown",
   "metadata": {},
   "source": [
    "Now we have our model, we can use it to create the dependency parsing itself with Eisner's algorithm. \n",
    "\n",
    "[Explanatory video](https://youtu.be/du9VQaFEyeA)"
   ]
  },
  {
   "cell_type": "code",
   "execution_count": 16,
   "metadata": {},
   "outputs": [],
   "source": [
    "full_left, full_right, part, labels = utils.eisner(sentence, f1, model)\n",
    "full_left_n, full_right_n, part_n, labels_n = utils.eisner(sentence, f1, model_n)\n",
    "true_full_left, true_full_right, true_part, true_labels = utils.eisner(sentence, f1, perfect=True)"
   ]
  },
  {
   "cell_type": "markdown",
   "metadata": {},
   "source": [
    "### Decomposition"
   ]
  },
  {
   "cell_type": "code",
   "execution_count": 29,
   "metadata": {},
   "outputs": [
    {
     "data": {
      "text/html": [
       "<div>\n",
       "<style scoped>\n",
       "    .dataframe tbody tr th:only-of-type {\n",
       "        vertical-align: middle;\n",
       "    }\n",
       "\n",
       "    .dataframe tbody tr th {\n",
       "        vertical-align: top;\n",
       "    }\n",
       "\n",
       "    .dataframe thead th {\n",
       "        text-align: right;\n",
       "    }\n",
       "</style>\n",
       "<table border=\"1\" class=\"dataframe\">\n",
       "  <thead>\n",
       "    <tr style=\"text-align: right;\">\n",
       "      <th></th>\n",
       "      <th>0</th>\n",
       "      <th>1</th>\n",
       "      <th>2</th>\n",
       "      <th>3</th>\n",
       "    </tr>\n",
       "  </thead>\n",
       "  <tbody>\n",
       "    <tr>\n",
       "      <th>0</th>\n",
       "      <td>0</td>\n",
       "      <td>ROOT</td>\n",
       "      <td>0</td>\n",
       "      <td>root</td>\n",
       "    </tr>\n",
       "    <tr>\n",
       "      <th>1</th>\n",
       "      <td>1</td>\n",
       "      <td>ADV</td>\n",
       "      <td>5</td>\n",
       "      <td>advmod</td>\n",
       "    </tr>\n",
       "    <tr>\n",
       "      <th>2</th>\n",
       "      <td>2</td>\n",
       "      <td>PUNCT</td>\n",
       "      <td>5</td>\n",
       "      <td>punct</td>\n",
       "    </tr>\n",
       "    <tr>\n",
       "      <th>3</th>\n",
       "      <td>3</td>\n",
       "      <td>DET</td>\n",
       "      <td>5</td>\n",
       "      <td>det</td>\n",
       "    </tr>\n",
       "    <tr>\n",
       "      <th>4</th>\n",
       "      <td>4</td>\n",
       "      <td>NOUN</td>\n",
       "      <td>5</td>\n",
       "      <td>nsubj</td>\n",
       "    </tr>\n",
       "    <tr>\n",
       "      <th>5</th>\n",
       "      <td>5</td>\n",
       "      <td>VERB</td>\n",
       "      <td>8</td>\n",
       "      <td>punct</td>\n",
       "    </tr>\n",
       "    <tr>\n",
       "      <th>6</th>\n",
       "      <td>6</td>\n",
       "      <td>DET</td>\n",
       "      <td>5</td>\n",
       "      <td>det</td>\n",
       "    </tr>\n",
       "    <tr>\n",
       "      <th>7</th>\n",
       "      <td>7</td>\n",
       "      <td>NOUN</td>\n",
       "      <td>5</td>\n",
       "      <td>obl</td>\n",
       "    </tr>\n",
       "    <tr>\n",
       "      <th>8</th>\n",
       "      <td>8</td>\n",
       "      <td>PUNCT</td>\n",
       "      <td>0</td>\n",
       "      <td>punct</td>\n",
       "    </tr>\n",
       "  </tbody>\n",
       "</table>\n",
       "</div>"
      ],
      "text/plain": [
       "   0      1  2       3\n",
       "0  0   ROOT  0    root\n",
       "1  1    ADV  5  advmod\n",
       "2  2  PUNCT  5   punct\n",
       "3  3    DET  5     det\n",
       "4  4   NOUN  5   nsubj\n",
       "5  5   VERB  8   punct\n",
       "6  6    DET  5     det\n",
       "7  7   NOUN  5     obl\n",
       "8  8  PUNCT  0   punct"
      ]
     },
     "execution_count": 29,
     "metadata": {},
     "output_type": "execute_result"
    }
   ],
   "source": [
    "sentence_predicted = utils.predict_sentence(sentence, f1, full_left, full_right, part, labels)\n",
    "pd.DataFrame(sentence_predicted)"
   ]
  },
  {
   "cell_type": "code",
   "execution_count": 32,
   "metadata": {},
   "outputs": [
    {
     "data": {
      "text/html": [
       "<style  type=\"text/css\" >\n",
       "    #T_bd570958_f423_11e8_a21c_801844ed7790row0_col0 {\n",
       "            background-color:  green;\n",
       "        }    #T_bd570958_f423_11e8_a21c_801844ed7790row0_col1 {\n",
       "            background-color:  green;\n",
       "        }    #T_bd570958_f423_11e8_a21c_801844ed7790row1_col0 {\n",
       "            background-color:  green;\n",
       "        }    #T_bd570958_f423_11e8_a21c_801844ed7790row1_col1 {\n",
       "            background-color:  green;\n",
       "        }    #T_bd570958_f423_11e8_a21c_801844ed7790row2_col0 {\n",
       "            background-color:  green;\n",
       "        }    #T_bd570958_f423_11e8_a21c_801844ed7790row2_col1 {\n",
       "            background-color:  green;\n",
       "        }    #T_bd570958_f423_11e8_a21c_801844ed7790row3_col0 {\n",
       "            background-color:  red;\n",
       "        }    #T_bd570958_f423_11e8_a21c_801844ed7790row3_col1 {\n",
       "            background-color:  green;\n",
       "        }    #T_bd570958_f423_11e8_a21c_801844ed7790row4_col0 {\n",
       "            background-color:  green;\n",
       "        }    #T_bd570958_f423_11e8_a21c_801844ed7790row4_col1 {\n",
       "            background-color:  green;\n",
       "        }    #T_bd570958_f423_11e8_a21c_801844ed7790row5_col0 {\n",
       "            background-color:  red;\n",
       "        }    #T_bd570958_f423_11e8_a21c_801844ed7790row5_col1 {\n",
       "            background-color:  red;\n",
       "        }    #T_bd570958_f423_11e8_a21c_801844ed7790row6_col0 {\n",
       "            background-color:  red;\n",
       "        }    #T_bd570958_f423_11e8_a21c_801844ed7790row6_col1 {\n",
       "            background-color:  green;\n",
       "        }    #T_bd570958_f423_11e8_a21c_801844ed7790row7_col0 {\n",
       "            background-color:  green;\n",
       "        }    #T_bd570958_f423_11e8_a21c_801844ed7790row7_col1 {\n",
       "            background-color:  red;\n",
       "        }    #T_bd570958_f423_11e8_a21c_801844ed7790row8_col0 {\n",
       "            background-color:  red;\n",
       "        }    #T_bd570958_f423_11e8_a21c_801844ed7790row8_col1 {\n",
       "            background-color:  green;\n",
       "        }</style>  \n",
       "<table id=\"T_bd570958_f423_11e8_a21c_801844ed7790\" > \n",
       "<thead>    <tr> \n",
       "        <th class=\"blank level0\" ></th> \n",
       "        <th class=\"col_heading level0 col0\" >2</th> \n",
       "        <th class=\"col_heading level0 col1\" >3</th> \n",
       "    </tr></thead> \n",
       "<tbody>    <tr> \n",
       "        <th id=\"T_bd570958_f423_11e8_a21c_801844ed7790level0_row0\" class=\"row_heading level0 row0\" >0</th> \n",
       "        <td id=\"T_bd570958_f423_11e8_a21c_801844ed7790row0_col0\" class=\"data row0 col0\" >True</td> \n",
       "        <td id=\"T_bd570958_f423_11e8_a21c_801844ed7790row0_col1\" class=\"data row0 col1\" >True</td> \n",
       "    </tr>    <tr> \n",
       "        <th id=\"T_bd570958_f423_11e8_a21c_801844ed7790level0_row1\" class=\"row_heading level0 row1\" >1</th> \n",
       "        <td id=\"T_bd570958_f423_11e8_a21c_801844ed7790row1_col0\" class=\"data row1 col0\" >True</td> \n",
       "        <td id=\"T_bd570958_f423_11e8_a21c_801844ed7790row1_col1\" class=\"data row1 col1\" >True</td> \n",
       "    </tr>    <tr> \n",
       "        <th id=\"T_bd570958_f423_11e8_a21c_801844ed7790level0_row2\" class=\"row_heading level0 row2\" >2</th> \n",
       "        <td id=\"T_bd570958_f423_11e8_a21c_801844ed7790row2_col0\" class=\"data row2 col0\" >True</td> \n",
       "        <td id=\"T_bd570958_f423_11e8_a21c_801844ed7790row2_col1\" class=\"data row2 col1\" >True</td> \n",
       "    </tr>    <tr> \n",
       "        <th id=\"T_bd570958_f423_11e8_a21c_801844ed7790level0_row3\" class=\"row_heading level0 row3\" >3</th> \n",
       "        <td id=\"T_bd570958_f423_11e8_a21c_801844ed7790row3_col0\" class=\"data row3 col0\" >False</td> \n",
       "        <td id=\"T_bd570958_f423_11e8_a21c_801844ed7790row3_col1\" class=\"data row3 col1\" >True</td> \n",
       "    </tr>    <tr> \n",
       "        <th id=\"T_bd570958_f423_11e8_a21c_801844ed7790level0_row4\" class=\"row_heading level0 row4\" >4</th> \n",
       "        <td id=\"T_bd570958_f423_11e8_a21c_801844ed7790row4_col0\" class=\"data row4 col0\" >True</td> \n",
       "        <td id=\"T_bd570958_f423_11e8_a21c_801844ed7790row4_col1\" class=\"data row4 col1\" >True</td> \n",
       "    </tr>    <tr> \n",
       "        <th id=\"T_bd570958_f423_11e8_a21c_801844ed7790level0_row5\" class=\"row_heading level0 row5\" >5</th> \n",
       "        <td id=\"T_bd570958_f423_11e8_a21c_801844ed7790row5_col0\" class=\"data row5 col0\" >False</td> \n",
       "        <td id=\"T_bd570958_f423_11e8_a21c_801844ed7790row5_col1\" class=\"data row5 col1\" >False</td> \n",
       "    </tr>    <tr> \n",
       "        <th id=\"T_bd570958_f423_11e8_a21c_801844ed7790level0_row6\" class=\"row_heading level0 row6\" >6</th> \n",
       "        <td id=\"T_bd570958_f423_11e8_a21c_801844ed7790row6_col0\" class=\"data row6 col0\" >False</td> \n",
       "        <td id=\"T_bd570958_f423_11e8_a21c_801844ed7790row6_col1\" class=\"data row6 col1\" >True</td> \n",
       "    </tr>    <tr> \n",
       "        <th id=\"T_bd570958_f423_11e8_a21c_801844ed7790level0_row7\" class=\"row_heading level0 row7\" >7</th> \n",
       "        <td id=\"T_bd570958_f423_11e8_a21c_801844ed7790row7_col0\" class=\"data row7 col0\" >True</td> \n",
       "        <td id=\"T_bd570958_f423_11e8_a21c_801844ed7790row7_col1\" class=\"data row7 col1\" >False</td> \n",
       "    </tr>    <tr> \n",
       "        <th id=\"T_bd570958_f423_11e8_a21c_801844ed7790level0_row8\" class=\"row_heading level0 row8\" >8</th> \n",
       "        <td id=\"T_bd570958_f423_11e8_a21c_801844ed7790row8_col0\" class=\"data row8 col0\" >False</td> \n",
       "        <td id=\"T_bd570958_f423_11e8_a21c_801844ed7790row8_col1\" class=\"data row8 col1\" >True</td> \n",
       "    </tr></tbody> \n",
       "</table> "
      ],
      "text/plain": [
       "<pandas.io.formats.style.Styler at 0x7f10547e6c50>"
      ]
     },
     "execution_count": 32,
     "metadata": {},
     "output_type": "execute_result"
    }
   ],
   "source": [
    "utils.compare(pd.DataFrame(sentence_predicted)[[f1.governor_i, f1.label_i]], pd.DataFrame(sentence)[[f1.governor_i, f1.label_i]])"
   ]
  },
  {
   "cell_type": "code",
   "execution_count": 34,
   "metadata": {},
   "outputs": [
    {
     "data": {
      "text/html": [
       "<div>\n",
       "<style scoped>\n",
       "    .dataframe tbody tr th:only-of-type {\n",
       "        vertical-align: middle;\n",
       "    }\n",
       "\n",
       "    .dataframe tbody tr th {\n",
       "        vertical-align: top;\n",
       "    }\n",
       "\n",
       "    .dataframe thead th {\n",
       "        text-align: right;\n",
       "    }\n",
       "</style>\n",
       "<table border=\"1\" class=\"dataframe\">\n",
       "  <thead>\n",
       "    <tr style=\"text-align: right;\">\n",
       "      <th></th>\n",
       "      <th>0</th>\n",
       "      <th>1</th>\n",
       "      <th>2</th>\n",
       "      <th>3</th>\n",
       "    </tr>\n",
       "  </thead>\n",
       "  <tbody>\n",
       "    <tr>\n",
       "      <th>0</th>\n",
       "      <td>0</td>\n",
       "      <td>ROOT</td>\n",
       "      <td>0</td>\n",
       "      <td>root</td>\n",
       "    </tr>\n",
       "    <tr>\n",
       "      <th>1</th>\n",
       "      <td>1</td>\n",
       "      <td>ADV</td>\n",
       "      <td>5</td>\n",
       "      <td>advmod</td>\n",
       "    </tr>\n",
       "    <tr>\n",
       "      <th>2</th>\n",
       "      <td>2</td>\n",
       "      <td>PUNCT</td>\n",
       "      <td>5</td>\n",
       "      <td>punct</td>\n",
       "    </tr>\n",
       "    <tr>\n",
       "      <th>3</th>\n",
       "      <td>3</td>\n",
       "      <td>DET</td>\n",
       "      <td>5</td>\n",
       "      <td>det</td>\n",
       "    </tr>\n",
       "    <tr>\n",
       "      <th>4</th>\n",
       "      <td>4</td>\n",
       "      <td>NOUN</td>\n",
       "      <td>5</td>\n",
       "      <td>nsubj</td>\n",
       "    </tr>\n",
       "    <tr>\n",
       "      <th>5</th>\n",
       "      <td>5</td>\n",
       "      <td>VERB</td>\n",
       "      <td>8</td>\n",
       "      <td>punct</td>\n",
       "    </tr>\n",
       "    <tr>\n",
       "      <th>6</th>\n",
       "      <td>6</td>\n",
       "      <td>DET</td>\n",
       "      <td>5</td>\n",
       "      <td>det</td>\n",
       "    </tr>\n",
       "    <tr>\n",
       "      <th>7</th>\n",
       "      <td>7</td>\n",
       "      <td>NOUN</td>\n",
       "      <td>5</td>\n",
       "      <td>obl</td>\n",
       "    </tr>\n",
       "    <tr>\n",
       "      <th>8</th>\n",
       "      <td>8</td>\n",
       "      <td>PUNCT</td>\n",
       "      <td>0</td>\n",
       "      <td>punct</td>\n",
       "    </tr>\n",
       "  </tbody>\n",
       "</table>\n",
       "</div>"
      ],
      "text/plain": [
       "   0      1  2       3\n",
       "0  0   ROOT  0    root\n",
       "1  1    ADV  5  advmod\n",
       "2  2  PUNCT  5   punct\n",
       "3  3    DET  5     det\n",
       "4  4   NOUN  5   nsubj\n",
       "5  5   VERB  8   punct\n",
       "6  6    DET  5     det\n",
       "7  7   NOUN  5     obl\n",
       "8  8  PUNCT  0   punct"
      ]
     },
     "execution_count": 34,
     "metadata": {},
     "output_type": "execute_result"
    }
   ],
   "source": [
    "sentence_predicted = utils.predict_sentence(sentence, f1, full_left_n, full_right_n, part_n, labels_n)\n",
    "pd.DataFrame(sentence_predicted)"
   ]
  },
  {
   "cell_type": "code",
   "execution_count": 36,
   "metadata": {},
   "outputs": [
    {
     "data": {
      "text/html": [
       "<style  type=\"text/css\" >\n",
       "    #T_d414c2a2_f423_11e8_a21c_801844ed7790row0_col0 {\n",
       "            background-color:  green;\n",
       "        }    #T_d414c2a2_f423_11e8_a21c_801844ed7790row0_col1 {\n",
       "            background-color:  green;\n",
       "        }    #T_d414c2a2_f423_11e8_a21c_801844ed7790row1_col0 {\n",
       "            background-color:  green;\n",
       "        }    #T_d414c2a2_f423_11e8_a21c_801844ed7790row1_col1 {\n",
       "            background-color:  green;\n",
       "        }    #T_d414c2a2_f423_11e8_a21c_801844ed7790row2_col0 {\n",
       "            background-color:  green;\n",
       "        }    #T_d414c2a2_f423_11e8_a21c_801844ed7790row2_col1 {\n",
       "            background-color:  green;\n",
       "        }    #T_d414c2a2_f423_11e8_a21c_801844ed7790row3_col0 {\n",
       "            background-color:  red;\n",
       "        }    #T_d414c2a2_f423_11e8_a21c_801844ed7790row3_col1 {\n",
       "            background-color:  green;\n",
       "        }    #T_d414c2a2_f423_11e8_a21c_801844ed7790row4_col0 {\n",
       "            background-color:  green;\n",
       "        }    #T_d414c2a2_f423_11e8_a21c_801844ed7790row4_col1 {\n",
       "            background-color:  green;\n",
       "        }    #T_d414c2a2_f423_11e8_a21c_801844ed7790row5_col0 {\n",
       "            background-color:  red;\n",
       "        }    #T_d414c2a2_f423_11e8_a21c_801844ed7790row5_col1 {\n",
       "            background-color:  red;\n",
       "        }    #T_d414c2a2_f423_11e8_a21c_801844ed7790row6_col0 {\n",
       "            background-color:  red;\n",
       "        }    #T_d414c2a2_f423_11e8_a21c_801844ed7790row6_col1 {\n",
       "            background-color:  green;\n",
       "        }    #T_d414c2a2_f423_11e8_a21c_801844ed7790row7_col0 {\n",
       "            background-color:  green;\n",
       "        }    #T_d414c2a2_f423_11e8_a21c_801844ed7790row7_col1 {\n",
       "            background-color:  red;\n",
       "        }    #T_d414c2a2_f423_11e8_a21c_801844ed7790row8_col0 {\n",
       "            background-color:  red;\n",
       "        }    #T_d414c2a2_f423_11e8_a21c_801844ed7790row8_col1 {\n",
       "            background-color:  green;\n",
       "        }</style>  \n",
       "<table id=\"T_d414c2a2_f423_11e8_a21c_801844ed7790\" > \n",
       "<thead>    <tr> \n",
       "        <th class=\"blank level0\" ></th> \n",
       "        <th class=\"col_heading level0 col0\" >2</th> \n",
       "        <th class=\"col_heading level0 col1\" >3</th> \n",
       "    </tr></thead> \n",
       "<tbody>    <tr> \n",
       "        <th id=\"T_d414c2a2_f423_11e8_a21c_801844ed7790level0_row0\" class=\"row_heading level0 row0\" >0</th> \n",
       "        <td id=\"T_d414c2a2_f423_11e8_a21c_801844ed7790row0_col0\" class=\"data row0 col0\" >True</td> \n",
       "        <td id=\"T_d414c2a2_f423_11e8_a21c_801844ed7790row0_col1\" class=\"data row0 col1\" >True</td> \n",
       "    </tr>    <tr> \n",
       "        <th id=\"T_d414c2a2_f423_11e8_a21c_801844ed7790level0_row1\" class=\"row_heading level0 row1\" >1</th> \n",
       "        <td id=\"T_d414c2a2_f423_11e8_a21c_801844ed7790row1_col0\" class=\"data row1 col0\" >True</td> \n",
       "        <td id=\"T_d414c2a2_f423_11e8_a21c_801844ed7790row1_col1\" class=\"data row1 col1\" >True</td> \n",
       "    </tr>    <tr> \n",
       "        <th id=\"T_d414c2a2_f423_11e8_a21c_801844ed7790level0_row2\" class=\"row_heading level0 row2\" >2</th> \n",
       "        <td id=\"T_d414c2a2_f423_11e8_a21c_801844ed7790row2_col0\" class=\"data row2 col0\" >True</td> \n",
       "        <td id=\"T_d414c2a2_f423_11e8_a21c_801844ed7790row2_col1\" class=\"data row2 col1\" >True</td> \n",
       "    </tr>    <tr> \n",
       "        <th id=\"T_d414c2a2_f423_11e8_a21c_801844ed7790level0_row3\" class=\"row_heading level0 row3\" >3</th> \n",
       "        <td id=\"T_d414c2a2_f423_11e8_a21c_801844ed7790row3_col0\" class=\"data row3 col0\" >False</td> \n",
       "        <td id=\"T_d414c2a2_f423_11e8_a21c_801844ed7790row3_col1\" class=\"data row3 col1\" >True</td> \n",
       "    </tr>    <tr> \n",
       "        <th id=\"T_d414c2a2_f423_11e8_a21c_801844ed7790level0_row4\" class=\"row_heading level0 row4\" >4</th> \n",
       "        <td id=\"T_d414c2a2_f423_11e8_a21c_801844ed7790row4_col0\" class=\"data row4 col0\" >True</td> \n",
       "        <td id=\"T_d414c2a2_f423_11e8_a21c_801844ed7790row4_col1\" class=\"data row4 col1\" >True</td> \n",
       "    </tr>    <tr> \n",
       "        <th id=\"T_d414c2a2_f423_11e8_a21c_801844ed7790level0_row5\" class=\"row_heading level0 row5\" >5</th> \n",
       "        <td id=\"T_d414c2a2_f423_11e8_a21c_801844ed7790row5_col0\" class=\"data row5 col0\" >False</td> \n",
       "        <td id=\"T_d414c2a2_f423_11e8_a21c_801844ed7790row5_col1\" class=\"data row5 col1\" >False</td> \n",
       "    </tr>    <tr> \n",
       "        <th id=\"T_d414c2a2_f423_11e8_a21c_801844ed7790level0_row6\" class=\"row_heading level0 row6\" >6</th> \n",
       "        <td id=\"T_d414c2a2_f423_11e8_a21c_801844ed7790row6_col0\" class=\"data row6 col0\" >False</td> \n",
       "        <td id=\"T_d414c2a2_f423_11e8_a21c_801844ed7790row6_col1\" class=\"data row6 col1\" >True</td> \n",
       "    </tr>    <tr> \n",
       "        <th id=\"T_d414c2a2_f423_11e8_a21c_801844ed7790level0_row7\" class=\"row_heading level0 row7\" >7</th> \n",
       "        <td id=\"T_d414c2a2_f423_11e8_a21c_801844ed7790row7_col0\" class=\"data row7 col0\" >True</td> \n",
       "        <td id=\"T_d414c2a2_f423_11e8_a21c_801844ed7790row7_col1\" class=\"data row7 col1\" >False</td> \n",
       "    </tr>    <tr> \n",
       "        <th id=\"T_d414c2a2_f423_11e8_a21c_801844ed7790level0_row8\" class=\"row_heading level0 row8\" >8</th> \n",
       "        <td id=\"T_d414c2a2_f423_11e8_a21c_801844ed7790row8_col0\" class=\"data row8 col0\" >False</td> \n",
       "        <td id=\"T_d414c2a2_f423_11e8_a21c_801844ed7790row8_col1\" class=\"data row8 col1\" >True</td> \n",
       "    </tr></tbody> \n",
       "</table> "
      ],
      "text/plain": [
       "<pandas.io.formats.style.Styler at 0x7f1054775e48>"
      ]
     },
     "execution_count": 36,
     "metadata": {},
     "output_type": "execute_result"
    }
   ],
   "source": [
    "utils.compare(pd.DataFrame(sentence_predicted)[[f1.governor_i, f1.label_i]], pd.DataFrame(sentence)[[f1.governor_i, f1.label_i]])"
   ]
  },
  {
   "cell_type": "markdown",
   "metadata": {},
   "source": [
    "### LAS scores"
   ]
  },
  {
   "cell_type": "code",
   "execution_count": 41,
   "metadata": {},
   "outputs": [
    {
     "data": {
      "text/plain": [
       "0.1091816367265469"
      ]
     },
     "execution_count": 41,
     "metadata": {},
     "output_type": "execute_result"
    }
   ],
   "source": [
    "sentences_test = utils.predict_sentences('UD_French-GSD/fr_gsd-ud-test.conllu', f1, model)\n",
    "utils.write_conllu(sentences_test, f1, 'UD_French-GSD/fr_gsd-ud-test.conllu', 'fr_test.conll')\n",
    "utils.score_las('fr_test.conll', 'UD_French-GSD/fr_gsd-ud-test.conllu')"
   ]
  },
  {
   "cell_type": "code",
   "execution_count": 45,
   "metadata": {},
   "outputs": [
    {
     "data": {
      "text/plain": [
       "0.24231536926147704"
      ]
     },
     "execution_count": 45,
     "metadata": {},
     "output_type": "execute_result"
    }
   ],
   "source": [
    "sentences_test = utils.predict_sentences('UD_French-GSD/fr_gsd-ud-test.conllu', f1, model_n)\n",
    "utils.write_conllu(sentences_test, f1, 'UD_French-GSD/fr_gsd-ud-test.conllu', 'fr_test_n.conll')\n",
    "utils.score_las('fr_test_n.conll', 'UD_French-GSD/fr_gsd-ud-test.conllu')"
   ]
  },
  {
   "cell_type": "markdown",
   "metadata": {},
   "source": [
    "## F2 features"
   ]
  },
  {
   "cell_type": "code",
   "execution_count": 64,
   "metadata": {},
   "outputs": [
    {
     "data": {
      "text/html": [
       "<div>\n",
       "<style scoped>\n",
       "    .dataframe tbody tr th:only-of-type {\n",
       "        vertical-align: middle;\n",
       "    }\n",
       "\n",
       "    .dataframe tbody tr th {\n",
       "        vertical-align: top;\n",
       "    }\n",
       "\n",
       "    .dataframe thead th {\n",
       "        text-align: right;\n",
       "    }\n",
       "</style>\n",
       "<table border=\"1\" class=\"dataframe\">\n",
       "  <thead>\n",
       "    <tr style=\"text-align: right;\">\n",
       "      <th></th>\n",
       "      <th>0</th>\n",
       "      <th>1</th>\n",
       "      <th>2</th>\n",
       "      <th>3</th>\n",
       "      <th>4</th>\n",
       "      <th>5</th>\n",
       "    </tr>\n",
       "  </thead>\n",
       "  <tbody>\n",
       "    <tr>\n",
       "      <th>0</th>\n",
       "      <td>0</td>\n",
       "      <td>ROOT</td>\n",
       "      <td>ROOT</td>\n",
       "      <td>_</td>\n",
       "      <td>0</td>\n",
       "      <td>root</td>\n",
       "    </tr>\n",
       "    <tr>\n",
       "      <th>1</th>\n",
       "      <td>1</td>\n",
       "      <td>toutefois</td>\n",
       "      <td>ADV</td>\n",
       "      <td>_</td>\n",
       "      <td>5</td>\n",
       "      <td>advmod</td>\n",
       "    </tr>\n",
       "    <tr>\n",
       "      <th>2</th>\n",
       "      <td>2</td>\n",
       "      <td>,</td>\n",
       "      <td>PUNCT</td>\n",
       "      <td>_</td>\n",
       "      <td>5</td>\n",
       "      <td>punct</td>\n",
       "    </tr>\n",
       "    <tr>\n",
       "      <th>3</th>\n",
       "      <td>3</td>\n",
       "      <td>le</td>\n",
       "      <td>DET</td>\n",
       "      <td>Definite=Def|Gender=Fem|Number=Plur|PronType=Art</td>\n",
       "      <td>4</td>\n",
       "      <td>det</td>\n",
       "    </tr>\n",
       "    <tr>\n",
       "      <th>4</th>\n",
       "      <td>4</td>\n",
       "      <td>fille</td>\n",
       "      <td>NOUN</td>\n",
       "      <td>Gender=Fem|Number=Plur</td>\n",
       "      <td>5</td>\n",
       "      <td>nsubj</td>\n",
       "    </tr>\n",
       "    <tr>\n",
       "      <th>5</th>\n",
       "      <td>5</td>\n",
       "      <td>adorer</td>\n",
       "      <td>VERB</td>\n",
       "      <td>Mood=Ind|Number=Plur|Person=3|Tense=Pres|VerbF...</td>\n",
       "      <td>0</td>\n",
       "      <td>root</td>\n",
       "    </tr>\n",
       "    <tr>\n",
       "      <th>6</th>\n",
       "      <td>6</td>\n",
       "      <td>le</td>\n",
       "      <td>DET</td>\n",
       "      <td>Definite=Def|Gender=Masc|Number=Plur|PronType=Art</td>\n",
       "      <td>7</td>\n",
       "      <td>det</td>\n",
       "    </tr>\n",
       "    <tr>\n",
       "      <th>7</th>\n",
       "      <td>7</td>\n",
       "      <td>dessert</td>\n",
       "      <td>NOUN</td>\n",
       "      <td>Gender=Masc|Number=Plur</td>\n",
       "      <td>5</td>\n",
       "      <td>obj</td>\n",
       "    </tr>\n",
       "    <tr>\n",
       "      <th>8</th>\n",
       "      <td>8</td>\n",
       "      <td>.</td>\n",
       "      <td>PUNCT</td>\n",
       "      <td>_</td>\n",
       "      <td>5</td>\n",
       "      <td>punct</td>\n",
       "    </tr>\n",
       "  </tbody>\n",
       "</table>\n",
       "</div>"
      ],
      "text/plain": [
       "   0          1      2                                                  3  4  \\\n",
       "0  0       ROOT   ROOT                                                  _  0   \n",
       "1  1  toutefois    ADV                                                  _  5   \n",
       "2  2          ,  PUNCT                                                  _  5   \n",
       "3  3         le    DET   Definite=Def|Gender=Fem|Number=Plur|PronType=Art  4   \n",
       "4  4      fille   NOUN                             Gender=Fem|Number=Plur  5   \n",
       "5  5     adorer   VERB  Mood=Ind|Number=Plur|Person=3|Tense=Pres|VerbF...  0   \n",
       "6  6         le    DET  Definite=Def|Gender=Masc|Number=Plur|PronType=Art  7   \n",
       "7  7    dessert   NOUN                            Gender=Masc|Number=Plur  5   \n",
       "8  8          .  PUNCT                                                  _  5   \n",
       "\n",
       "        5  \n",
       "0    root  \n",
       "1  advmod  \n",
       "2   punct  \n",
       "3     det  \n",
       "4   nsubj  \n",
       "5    root  \n",
       "6     det  \n",
       "7     obj  \n",
       "8   punct  "
      ]
     },
     "execution_count": 64,
     "metadata": {},
     "output_type": "execute_result"
    }
   ],
   "source": [
    "sentence = f2.sentences_fr_train[3]\n",
    "pd.DataFrame(sentence)"
   ]
  },
  {
   "cell_type": "markdown",
   "metadata": {},
   "source": [
    "## Morphology Exploration"
   ]
  },
  {
   "cell_type": "code",
   "execution_count": 50,
   "metadata": {},
   "outputs": [
    {
     "data": {
      "text/plain": [
       "(172186, 371192, '46.39 %')"
      ]
     },
     "execution_count": 50,
     "metadata": {},
     "output_type": "execute_result"
    }
   ],
   "source": [
    "morphos, no_morpho_count, word_count = f2.count_morphos(f2.sentences_fr_train)\n",
    "no_morpho_count, word_count, '%.2f %%' % (no_morpho_count / word_count * 100)"
   ]
  },
  {
   "cell_type": "code",
   "execution_count": 51,
   "metadata": {},
   "outputs": [
    {
     "data": {
      "text/plain": [
       "86"
      ]
     },
     "execution_count": 51,
     "metadata": {},
     "output_type": "execute_result"
    }
   ],
   "source": [
    "inputs_count = 0\n",
    "for m in morphos:\n",
    "    inputs_count += len(m)\n",
    "inputs_count"
   ]
  },
  {
   "cell_type": "code",
   "execution_count": 56,
   "metadata": {},
   "outputs": [
    {
     "data": {
      "text/plain": [
       "{'Definite': Counter({'Def': 38331, 'Ind': 9023}),\n",
       " 'Degree': Counter({'Cmp': 1}),\n",
       " 'Gender': Counter({'Fem': 66409, 'Masc': 89525, 'Neut': 2}),\n",
       " 'Mood': Counter({'Cnd': 386, 'Imp': 109, 'Ind': 21317, 'Sub': 347}),\n",
       " 'NumType': Counter({'Ord': 174}),\n",
       " 'Number': Counter({'Plur': 43280, 'Sing': 140866}),\n",
       " 'Person': Counter({'1': 1723, '2': 527, '3': 31007}),\n",
       " 'Polarity': Counter({'Neg': 2550}),\n",
       " 'Poss': Counter({'Yes': 3908}),\n",
       " 'PronType': Counter({'Art': 47279,\n",
       "          'Dem': 3380,\n",
       "          'Ind': 3,\n",
       "          'Int': 1,\n",
       "          'Neg': 108,\n",
       "          'Prs': 13104,\n",
       "          'Rel': 3062}),\n",
       " 'Reflex': Counter({'Yes': 95}),\n",
       " 'Tense': Counter({'Fut': 740, 'Imp': 1812, 'Past': 12229, 'Pres': 19744}),\n",
       " 'VerbForm': Counter({'Fin': 22159, 'Inf': 5511, 'Part': 12363})}"
      ]
     },
     "execution_count": 56,
     "metadata": {},
     "output_type": "execute_result"
    }
   ],
   "source": [
    "morphos"
   ]
  },
  {
   "cell_type": "code",
   "execution_count": 55,
   "metadata": {},
   "outputs": [],
   "source": [
    "f2.remove_morpho(['Case'], f2.sentences_fr_train, morphos)"
   ]
  },
  {
   "cell_type": "code",
   "execution_count": 59,
   "metadata": {},
   "outputs": [],
   "source": [
    "morphos_vec = f2.morpho_2_vec(morphos)"
   ]
  },
  {
   "cell_type": "code",
   "execution_count": 66,
   "metadata": {},
   "outputs": [
    {
     "name": "stdout",
     "output_type": "stream",
     "text": [
      "Definite=Def|Gender=Fem|Number=Plur|PronType=Art\n"
     ]
    },
    {
     "data": {
      "text/plain": [
       "array([0., 0., 0., 0., 0., 0., 1., 1., 0., 0., 0., 0., 1., 0., 0., 0., 0.,\n",
       "       0., 0., 0., 1., 0., 0., 0., 0., 0., 0., 0., 0., 0., 0., 0., 0., 0.,\n",
       "       0., 0., 0., 0., 0., 0., 0., 0., 0., 0., 0., 0., 0., 0., 0., 0., 0.,\n",
       "       0., 0., 0., 0., 0., 0., 0., 0., 0., 0., 0., 0., 0., 0., 0., 0., 0.,\n",
       "       0., 0., 0., 0., 0., 0., 0., 0., 0., 0.])"
      ]
     },
     "execution_count": 66,
     "metadata": {},
     "output_type": "execute_result"
    }
   ],
   "source": [
    "reload(f2)\n",
    "\n",
    "print(sentence[3][f2.morpho_i])\n",
    "f2.convert_morpho(sentence[3], morphos_vec)"
   ]
  },
  {
   "cell_type": "markdown",
   "metadata": {},
   "source": [
    "## Embeddings"
   ]
  },
  {
   "cell_type": "code",
   "execution_count": 8,
   "metadata": {},
   "outputs": [],
   "source": [
    "txts = []\n",
    "for s in sentences:\n",
    "    txts.append(list(s.T[lemma_i]))\n",
    "#     print(txts)\n",
    "#     break"
   ]
  },
  {
   "cell_type": "code",
   "execution_count": 9,
   "metadata": {},
   "outputs": [],
   "source": [
    "word2vec = Word2Vec(txts, size=100, window=5, min_count=1, workers=20, iter=13)"
   ]
  },
  {
   "cell_type": "code",
   "execution_count": 11,
   "metadata": {},
   "outputs": [
    {
     "data": {
      "text/plain": [
       "[(':', 0.9999552965164185),\n",
       " ('avec', 0.9999533891677856),\n",
       " ('pour', 0.9999516010284424),\n",
       " ('contre', 0.9999505281448364),\n",
       " ('en', 0.9999502301216125),\n",
       " ('dont', 0.9999480247497559),\n",
       " ('nouveau', 0.9999476671218872),\n",
       " ('par', 0.9999459981918335),\n",
       " ('tout', 0.9999454617500305),\n",
       " ('année', 0.9999446868896484)]"
      ]
     },
     "execution_count": 11,
     "metadata": {},
     "output_type": "execute_result"
    }
   ],
   "source": [
    "word2vec.most_similar('homme')"
   ]
  },
  {
   "cell_type": "code",
   "execution_count": 67,
   "metadata": {},
   "outputs": [],
   "source": [
    "embeddings = f2.load_embedding_tsv('embeddings/fr.tsv')"
   ]
  },
  {
   "cell_type": "code",
   "execution_count": 71,
   "metadata": {},
   "outputs": [
    {
     "name": "stdout",
     "output_type": "stream",
     "text": [
      "aventurier 0.3812869298843866\n",
      "aristocrate 0.41586075197264827\n",
      "garçon 0.42669343291005124\n",
      "vieillard 0.42848045450211325\n",
      "délinquant 0.4517847652614828\n",
      "écrivain 0.462098919208601\n",
      "politicien 0.4643771199670472\n",
      "escroc 0.46441918350310585\n",
      "orateur 0.47624799682468577\n",
      "érudit 0.4801901703996774\n"
     ]
    }
   ],
   "source": [
    "for w, d in f2.most_similar('homme', embeddings):\n",
    "    print(w, d)"
   ]
  },
  {
   "cell_type": "code",
   "execution_count": 73,
   "metadata": {},
   "outputs": [
    {
     "name": "stdout",
     "output_type": "stream",
     "text": [
      "servante 0.27001328890807663\n",
      "mère 0.27587044941978245\n",
      "fille 0.28304991668249113\n",
      "belle-mère 0.3160642425882113\n",
      "fiancée 0.32169272506347235\n",
      "compagne 0.3242348885116416\n",
      "sœur 0.3276623007064734\n",
      "prostituée 0.3331958262205478\n",
      "nourrice 0.334836847918482\n",
      "demi-sœur 0.3499454120589943\n"
     ]
    }
   ],
   "source": [
    "for w, d in f2.most_similar('femme', embeddings):\n",
    "    print(w, d)"
   ]
  },
  {
   "cell_type": "code",
   "execution_count": 75,
   "metadata": {},
   "outputs": [],
   "source": [
    "mean_embedding = f2.default_embedding(embeddings, len(embeddings['homme']))"
   ]
  },
  {
   "cell_type": "markdown",
   "metadata": {},
   "source": [
    "## Data"
   ]
  },
  {
   "cell_type": "code",
   "execution_count": 86,
   "metadata": {},
   "outputs": [
    {
     "data": {
      "text/plain": [
       "((356638, 793), (356638, 39))"
      ]
     },
     "execution_count": 86,
     "metadata": {},
     "output_type": "execute_result"
    }
   ],
   "source": [
    "x_train, y_train = utils.create_dataset(f2.sentences_fr_train, f2, morphos_vec, embeddings, mean_embedding)\n",
    "x_train.shape, y_train.shape"
   ]
  },
  {
   "cell_type": "code",
   "execution_count": 85,
   "metadata": {},
   "outputs": [
    {
     "data": {
      "text/plain": [
       "((10020, 793), (10020, 39))"
      ]
     },
     "execution_count": 85,
     "metadata": {},
     "output_type": "execute_result"
    }
   ],
   "source": [
    "x_test, y_test = utils.create_dataset(f2.sentences_fr_test, f2, morphos_vec, embeddings, mean_embedding)\n",
    "x_test.shape, y_test.shape"
   ]
  },
  {
   "cell_type": "markdown",
   "metadata": {},
   "source": [
    "## Model"
   ]
  },
  {
   "cell_type": "code",
   "execution_count": 158,
   "metadata": {},
   "outputs": [
    {
     "name": "stdout",
     "output_type": "stream",
     "text": [
      "_________________________________________________________________\n",
      "Layer (type)                 Output Shape              Param #   \n",
      "=================================================================\n",
      "dense_91 (Dense)             (None, 393)               312042    \n",
      "_________________________________________________________________\n",
      "dropout_21 (Dropout)         (None, 393)               0         \n",
      "_________________________________________________________________\n",
      "dense_92 (Dense)             (None, 150)               59100     \n",
      "_________________________________________________________________\n",
      "dropout_22 (Dropout)         (None, 150)               0         \n",
      "_________________________________________________________________\n",
      "dense_93 (Dense)             (None, 39)                5889      \n",
      "=================================================================\n",
      "Total params: 377,031\n",
      "Trainable params: 377,031\n",
      "Non-trainable params: 0\n",
      "_________________________________________________________________\n"
     ]
    }
   ],
   "source": [
    "modelf2 = keras.models.Sequential()\n",
    "modelf2.add(keras.layers.Dense(393, activation='sigmoid', input_dim=793))\n",
    "modelf2.add(keras.layers.Dropout(0.5))\n",
    "modelf2.add(keras.layers.Dense(150, activation='sigmoid'))\n",
    "modelf2.add(keras.layers.Dropout(0.2))\n",
    "modelf2.add(keras.layers.Dense(39, activation='softplus'))\n",
    "\n",
    "tensorboard = keras.callbacks.TensorBoard(log_dir=\"logs/{}\".format(time.time()))\n",
    "opt = keras.optimizers.Adam(lr=0.0001)\n",
    "\n",
    "modelf2.compile(opt, 'categorical_crossentropy', metrics=['accuracy'])\n",
    "modelf2.summary()"
   ]
  },
  {
   "cell_type": "code",
   "execution_count": 159,
   "metadata": {},
   "outputs": [
    {
     "data": {
      "image/png": "[encoded data removed]",
      "text/plain": [
       "<Figure size 432x288 with 1 Axes>"
      ]
     },
     "metadata": {},
     "output_type": "display_data"
    },
    {
     "data": {
      "image/png": "[encoded data removed]",
      "text/plain": [
       "<Figure size 432x288 with 1 Axes>"
      ]
     },
     "metadata": {},
     "output_type": "display_data"
    }
   ],
   "source": [
    "h = modelf2.fit(x_train, y_train, epochs=250, batch_size=256, validation_data=(x_test, y_test), verbose=0, callbacks=[tensorboard])\n",
    "\n",
    "x_plt = np.arange(len(h.history['loss']))\n",
    "plt.plot(x_plt, h.history['loss'], label='train')\n",
    "plt.plot(x_plt, h.history['val_loss'], label='test')\n",
    "plt.show()\n",
    "\n",
    "plt.plot(x_plt, h.history['acc'], label='train')\n",
    "plt.plot(x_plt, h.history['val_acc'], label='test')\n",
    "plt.show()"
   ]
  },
  {
   "cell_type": "markdown",
   "metadata": {},
   "source": [
    "## Eisner"
   ]
  },
  {
   "cell_type": "code",
   "execution_count": 160,
   "metadata": {},
   "outputs": [
    {
     "data": {
      "text/plain": [
       "0.5282435129740519"
      ]
     },
     "execution_count": 160,
     "metadata": {},
     "output_type": "execute_result"
    }
   ],
   "source": [
    "sentences_test = predict_sentences('UD_French-GSD/fr_gsd-ud-test.conllu', modelf2, features_enabled=[0, 2, 3, 5, 6, 7], root=[0, 'ROOT', 'ROOT', '_', 0, 'root'])\n",
    "write_conllu(sentences_test, 'UD_French-GSD/fr_gsd-ud-test.conllu', 'fr_test_f2.conll')\n",
    "score_las('fr_test_f2.conll', 'UD_French-GSD/fr_gsd-ud-test.conllu')"
   ]
  },
  {
   "cell_type": "code",
   "execution_count": 90,
   "metadata": {},
   "outputs": [
    {
     "data": {
      "text/plain": [
       "0.3480764929545963"
      ]
     },
     "execution_count": 90,
     "metadata": {},
     "output_type": "execute_result"
    }
   ],
   "source": [
    "sentences_test = predict_sentences('UD_French-GSD/fr_gsd-ud-dev.conllu', modelf2, features_enabled=[0, 2, 3, 5, 6, 7], root=[0, 'ROOT', 'ROOT', '_', 0, 'root'])\n",
    "write_conllu(sentences_test, 'UD_French-GSD/fr_gsd-ud-dev.conllu', 'fr_test_f2.conll')\n",
    "score_las('fr_test_f2.conll', 'UD_French-GSD/fr_gsd-ud-dev.conllu')"
   ]
  }
 ],
 "metadata": {
  "colab": {
   "collapsed_sections": [],
   "name": "1DGAN_v1.ipynb",
   "provenance": [],
   "version": "0.3.2"
  },
  "kernelspec": {
   "display_name": "Python 3",
   "language": "python",
   "name": "python3"
  },
  "language_info": {
   "codemirror_mode": {
    "name": "ipython",
    "version": 3
   },
   "file_extension": ".py",
   "mimetype": "text/x-python",
   "name": "python",
   "nbconvert_exporter": "python",
   "pygments_lexer": "ipython3",
   "version": "3.5.3"
  }
 },
 "nbformat": 4,
 "nbformat_minor": 2
}
