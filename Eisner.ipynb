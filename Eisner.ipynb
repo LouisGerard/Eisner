{
 "cells": [
  {
   "cell_type": "markdown",
   "metadata": {},
   "source": [
    "# Dependency Parsing with Eisner\n",
    "Par Louis GERARD & Tiago CORTINHAL"
   ]
  },
  {
   "cell_type": "code",
   "execution_count": 98,
   "metadata": {},
   "outputs": [],
   "source": [
    "import sys\n",
    "venv_root = '/var/lib/vz/data/g13005245/DEEP/'\n",
    "sys.path.append(venv_root + 'lib/python3.5/site-packages')\n",
    "\n",
    "import warnings\n",
    "warnings.filterwarnings('ignore')\n",
    "\n",
    "import pandas as pd\n",
    "import numpy as np\n",
    "import keras\n",
    "import matplotlib.pyplot as plt\n",
    "%matplotlib inline\n",
    "from sklearn.model_selection import train_test_split"
   ]
  },
  {
   "cell_type": "markdown",
   "metadata": {},
   "source": [
    "## Features 1\n",
    "\n",
    "We start building a model on these features :\n",
    "- Governor POS\n",
    "- Dependant POS\n",
    "- Distance between these words"
   ]
  },
  {
   "cell_type": "markdown",
   "metadata": {},
   "source": [
    "### Read data\n",
    "\n",
    "We read the conllu file to get aall the info we need. In order to make this reusable, we can add any feature to the final list by adding its index to `features_enabled`. Here we have :\n",
    "- the index, to identify our token\n",
    "- the part of speech, which we want to pass to our model\n",
    "- the governor index, to build pairs"
   ]
  },
  {
   "cell_type": "code",
   "execution_count": 104,
   "metadata": {},
   "outputs": [
    {
     "data": {
      "text/html": [
       "<div>\n",
       "<style scoped>\n",
       "    .dataframe tbody tr th:only-of-type {\n",
       "        vertical-align: middle;\n",
       "    }\n",
       "\n",
       "    .dataframe tbody tr th {\n",
       "        vertical-align: top;\n",
       "    }\n",
       "\n",
       "    .dataframe thead th {\n",
       "        text-align: right;\n",
       "    }\n",
       "</style>\n",
       "<table border=\"1\" class=\"dataframe\">\n",
       "  <thead>\n",
       "    <tr style=\"text-align: right;\">\n",
       "      <th></th>\n",
       "      <th>0</th>\n",
       "      <th>1</th>\n",
       "      <th>2</th>\n",
       "    </tr>\n",
       "  </thead>\n",
       "  <tbody>\n",
       "    <tr>\n",
       "      <th>0</th>\n",
       "      <td>0</td>\n",
       "      <td>ROOT</td>\n",
       "      <td>ROOT</td>\n",
       "    </tr>\n",
       "    <tr>\n",
       "      <th>1</th>\n",
       "      <td>1</td>\n",
       "      <td>DET</td>\n",
       "      <td>2</td>\n",
       "    </tr>\n",
       "    <tr>\n",
       "      <th>2</th>\n",
       "      <td>2</td>\n",
       "      <td>NOUN</td>\n",
       "      <td>4</td>\n",
       "    </tr>\n",
       "    <tr>\n",
       "      <th>3</th>\n",
       "      <td>3</td>\n",
       "      <td>AUX</td>\n",
       "      <td>4</td>\n",
       "    </tr>\n",
       "    <tr>\n",
       "      <th>4</th>\n",
       "      <td>4</td>\n",
       "      <td>VERB</td>\n",
       "      <td>0</td>\n",
       "    </tr>\n",
       "    <tr>\n",
       "      <th>5</th>\n",
       "      <td>5</td>\n",
       "      <td>ADP</td>\n",
       "      <td>7</td>\n",
       "    </tr>\n",
       "    <tr>\n",
       "      <th>6</th>\n",
       "      <td>6</td>\n",
       "      <td>DET</td>\n",
       "      <td>7</td>\n",
       "    </tr>\n",
       "    <tr>\n",
       "      <th>7</th>\n",
       "      <td>7</td>\n",
       "      <td>NOUN</td>\n",
       "      <td>4</td>\n",
       "    </tr>\n",
       "    <tr>\n",
       "      <th>8</th>\n",
       "      <td>8</td>\n",
       "      <td>ADP</td>\n",
       "      <td>10</td>\n",
       "    </tr>\n",
       "    <tr>\n",
       "      <th>9</th>\n",
       "      <td>9</td>\n",
       "      <td>DET</td>\n",
       "      <td>10</td>\n",
       "    </tr>\n",
       "    <tr>\n",
       "      <th>10</th>\n",
       "      <td>10</td>\n",
       "      <td>NOUN</td>\n",
       "      <td>7</td>\n",
       "    </tr>\n",
       "    <tr>\n",
       "      <th>11</th>\n",
       "      <td>11</td>\n",
       "      <td>PUNCT</td>\n",
       "      <td>4</td>\n",
       "    </tr>\n",
       "    <tr>\n",
       "      <th>12</th>\n",
       "      <td>12</td>\n",
       "      <td>ADP</td>\n",
       "      <td>14</td>\n",
       "    </tr>\n",
       "    <tr>\n",
       "      <th>13</th>\n",
       "      <td>13</td>\n",
       "      <td>DET</td>\n",
       "      <td>14</td>\n",
       "    </tr>\n",
       "    <tr>\n",
       "      <th>14</th>\n",
       "      <td>14</td>\n",
       "      <td>NOUN</td>\n",
       "      <td>4</td>\n",
       "    </tr>\n",
       "    <tr>\n",
       "      <th>15</th>\n",
       "      <td>15</td>\n",
       "      <td>ADP</td>\n",
       "      <td>16</td>\n",
       "    </tr>\n",
       "    <tr>\n",
       "      <th>16</th>\n",
       "      <td>16</td>\n",
       "      <td>PROPN</td>\n",
       "      <td>14</td>\n",
       "    </tr>\n",
       "    <tr>\n",
       "      <th>17</th>\n",
       "      <td>17</td>\n",
       "      <td>PUNCT</td>\n",
       "      <td>4</td>\n",
       "    </tr>\n",
       "  </tbody>\n",
       "</table>\n",
       "</div>"
      ],
      "text/plain": [
       "     0      1     2\n",
       "0    0   ROOT  ROOT\n",
       "1    1    DET     2\n",
       "2    2   NOUN     4\n",
       "3    3    AUX     4\n",
       "4    4   VERB     0\n",
       "5    5    ADP     7\n",
       "6    6    DET     7\n",
       "7    7   NOUN     4\n",
       "8    8    ADP    10\n",
       "9    9    DET    10\n",
       "10  10   NOUN     7\n",
       "11  11  PUNCT     4\n",
       "12  12    ADP    14\n",
       "13  13    DET    14\n",
       "14  14   NOUN     4\n",
       "15  15    ADP    16\n",
       "16  16  PROPN    14\n",
       "17  17  PUNCT     4"
      ]
     },
     "execution_count": 104,
     "metadata": {},
     "output_type": "execute_result"
    }
   ],
   "source": [
    "sentences = []\n",
    "\n",
    "conllu_filename = \"UD_French-GSD/fr_gsd-ud-train.conllu\"\n",
    "features = ['INDEX', 'FORM', 'LEMMA', 'POS', 'X1', 'MORPHO', 'GOV', 'LABEL', 'X2', 'X3']\n",
    "features_enabled = [0, 3, 6]\n",
    "root = [0, 'ROOT', 'ROOT', 0]\n",
    "\n",
    "columns = []\n",
    "for i, f in enumerate(features):\n",
    "    if i in features_enabled:\n",
    "        columns.append(f)\n",
    "        \n",
    "with open(conllu_filename, 'r', encoding='utf-8') as conllu_file:\n",
    "    sentence = []\n",
    "    for i in range(len(features_enabled)):\n",
    "        sentence.append([root[i]])\n",
    "    tokens = []\n",
    "    for line in conllu_file:\n",
    "        if line[0] == '\\n':\n",
    "            if len(sentence) > 1:\n",
    "                sentences.append(sentence)\n",
    "                sentence = []\n",
    "                for i in range(len(features_enabled)):\n",
    "                    sentence.append([root[i]])\n",
    "        elif line[0] == '#':\n",
    "            pass\n",
    "        else:\n",
    "            tokens = line.split('\\t')\n",
    "            if '-' not in tokens[0]:\n",
    "                for i, j in enumerate(features_enabled):\n",
    "                    sentence[i].append(tokens[j])\n",
    "\n",
    "pd.DataFrame(sentences[1]).T"
   ]
  },
  {
   "cell_type": "markdown",
   "metadata": {},
   "source": [
    "Now we have all the data we need, we can process it to build our dataset. \n",
    "\n",
    "We can't pass directly the part of speech tags to our model, so we need to encod it to an one hot vector. We can compute the distances with the indexes. \n",
    "\n",
    "We can still reuse this code by adapting `index_i`, `pos_i` and `governor_i` to the previous final result and process the added data in the loop. \n",
    "\n",
    "The targets are a bit simplitic because all we need to compute it is the distance. A single neuron with linear activation function, a weight of 1 for the distance and weights of 0 for the POS can do the job. "
   ]
  },
  {
   "cell_type": "code",
   "execution_count": 112,
   "metadata": {},
   "outputs": [
    {
     "data": {
      "text/plain": [
       "((356638, 37), (356638, 2))"
      ]
     },
     "execution_count": 112,
     "metadata": {},
     "output_type": "execute_result"
    }
   ],
   "source": [
    "def get_sentence(sentences):\n",
    "    for sentence in sentences:\n",
    "        yield np.array(sentence).T\n",
    "        \n",
    "pos_2_1hot = {\n",
    "    'ADJ': 1,\n",
    "    'ADP': 2,\n",
    "    'ADV': 3,\n",
    "    'AUX': 4,\n",
    "    'CCONJ': 5,\n",
    "    'DET': 6,\n",
    "    'INTJ': 7,\n",
    "    'NOUN': 8,\n",
    "    'NUM': 9,\n",
    "    'PART': 10,\n",
    "    'PRON': 11,\n",
    "    'PROPN': 12,\n",
    "    'PUNCT': 13,\n",
    "    'SCONJ': 14,\n",
    "    'SYM': 15,\n",
    "    'VERB': 16,\n",
    "    'X': 17,\n",
    "    'ROOT': 0\n",
    "}\n",
    "\n",
    "index_i = 0\n",
    "pos_i = 1\n",
    "governor_i = 2\n",
    "\n",
    "x = []\n",
    "y = []\n",
    "for s in get_sentence(sentences):\n",
    "    for w1 in s:\n",
    "        if w1[index_i] == '0':\n",
    "            continue\n",
    "        w2 = s[int(w1[governor_i])]\n",
    "        \n",
    "        dist = int(w2[index_i]) - int(w1[index_i])\n",
    "        \n",
    "        pos1 = np.zeros(len(pos_2_1hot))\n",
    "        pos1[pos_2_1hot[w1[pos_i]]] = 1\n",
    "        \n",
    "        pos2 = np.zeros(len(pos_2_1hot))\n",
    "        pos2[pos_2_1hot[w2[pos_i]]] = 1\n",
    "        \n",
    "        x.append(np.concatenate(([dist], pos1, pos2)))\n",
    "        y.append([dist > 0, dist <= 0])\n",
    "\n",
    "x = np.array(x)\n",
    "y = np.array(y)\n",
    "\n",
    "x.shape, y.shape"
   ]
  },
  {
   "cell_type": "markdown",
   "metadata": {},
   "source": [
    "### A first model"
   ]
  },
  {
   "cell_type": "code",
   "execution_count": 150,
   "metadata": {},
   "outputs": [
    {
     "name": "stdout",
     "output_type": "stream",
     "text": [
      "_________________________________________________________________\n",
      "Layer (type)                 Output Shape              Param #   \n",
      "=================================================================\n",
      "dense_24 (Dense)             (None, 37)                1406      \n",
      "_________________________________________________________________\n",
      "dense_25 (Dense)             (None, 2)                 76        \n",
      "=================================================================\n",
      "Total params: 1,482\n",
      "Trainable params: 1,482\n",
      "Non-trainable params: 0\n",
      "_________________________________________________________________\n"
     ]
    }
   ],
   "source": [
    "x_train, x_test, y_train, y_test = train_test_split(x, y, test_size=0.3)\n",
    "\n",
    "model = keras.models.Sequential()\n",
    "model.add(keras.layers.Dense(37, activation='sigmoid', input_dim=37))\n",
    "model.add(keras.layers.Dense(2, activation='sigmoid'))\n",
    "\n",
    "model.compile('sgd', 'binary_crossentropy', metrics=['accuracy'])\n",
    "model.summary()"
   ]
  },
  {
   "cell_type": "code",
   "execution_count": 151,
   "metadata": {},
   "outputs": [
    {
     "name": "stdout",
     "output_type": "stream",
     "text": [
      "Train on 249646 samples, validate on 106992 samples\n",
      "Epoch 1/10\n",
      "249646/249646 [==============================] - 1s 4us/step - loss: 0.6175 - acc: 0.7096 - val_loss: 0.4759 - val_acc: 0.8960\n",
      "Epoch 2/10\n",
      "249646/249646 [==============================] - 1s 3us/step - loss: 0.4061 - acc: 0.9215 - val_loss: 0.3475 - val_acc: 0.9345\n",
      "Epoch 3/10\n",
      "249646/249646 [==============================] - 1s 3us/step - loss: 0.3039 - acc: 0.9633 - val_loss: 0.2661 - val_acc: 0.9927\n",
      "Epoch 4/10\n",
      "249646/249646 [==============================] - 1s 3us/step - loss: 0.2363 - acc: 0.9990 - val_loss: 0.2103 - val_acc: 1.0000\n",
      "Epoch 5/10\n",
      "249646/249646 [==============================] - 1s 3us/step - loss: 0.1891 - acc: 1.0000 - val_loss: 0.1707 - val_acc: 1.0000\n",
      "Epoch 6/10\n",
      "249646/249646 [==============================] - 1s 3us/step - loss: 0.1552 - acc: 1.0000 - val_loss: 0.1417 - val_acc: 1.0000\n",
      "Epoch 7/10\n",
      "249646/249646 [==============================] - 1s 3us/step - loss: 0.1300 - acc: 1.0000 - val_loss: 0.1199 - val_acc: 1.0000\n",
      "Epoch 8/10\n",
      "249646/249646 [==============================] - 1s 3us/step - loss: 0.1109 - acc: 1.0000 - val_loss: 0.1032 - val_acc: 1.0000\n",
      "Epoch 9/10\n",
      "249646/249646 [==============================] - 1s 3us/step - loss: 0.0960 - acc: 1.0000 - val_loss: 0.0899 - val_acc: 1.0000\n",
      "Epoch 10/10\n",
      "249646/249646 [==============================] - 1s 3us/step - loss: 0.0841 - acc: 1.0000 - val_loss: 0.0793 - val_acc: 1.0000\n"
     ]
    },
    {
     "data": {
      "image/png": "[encoded data removed]",
      "text/plain": [
       "<Figure size 432x288 with 1 Axes>"
      ]
     },
     "metadata": {},
     "output_type": "display_data"
    },
    {
     "data": {
      "image/png": "[encoded data removed]",
      "text/plain": [
       "<Figure size 432x288 with 1 Axes>"
      ]
     },
     "metadata": {},
     "output_type": "display_data"
    }
   ],
   "source": [
    "h = model.fit(x_train, y_train, epochs=10, batch_size=1024, validation_data=(x_test, y_test))\n",
    "\n",
    "x_plt = np.arange(len(h.history['loss']))\n",
    "plt.plot(x_plt, h.history['loss'], label='train')\n",
    "plt.plot(x_plt, h.history['val_loss'], label='test')\n",
    "plt.show()\n",
    "plt.plot(x_plt, h.history['acc'], label='train')\n",
    "plt.plot(x_plt, h.history['val_acc'], label='test')\n",
    "plt.show()"
   ]
  },
  {
   "cell_type": "code",
   "execution_count": 152,
   "metadata": {},
   "outputs": [
    {
     "data": {
      "text/plain": [
       "array([[0.8929501, 0.1006885]], dtype=float32)"
      ]
     },
     "execution_count": 152,
     "metadata": {},
     "output_type": "execute_result"
    }
   ],
   "source": [
    "dist = 1\n",
    "pos1 = np.zeros(18)\n",
    "pos1[pos_2_1hot['DET']] = 1\n",
    "pos2 = np.zeros(18)\n",
    "pos2[pos_2_1hot['VERB']] = 1\n",
    "model.predict(np.concatenate(([dist], pos1, pos2)).reshape(1, -1))"
   ]
  },
  {
   "cell_type": "code",
   "execution_count": 153,
   "metadata": {},
   "outputs": [
    {
     "data": {
      "text/plain": [
       "array([[0.26844928, 0.7221041 ]], dtype=float32)"
      ]
     },
     "execution_count": 153,
     "metadata": {},
     "output_type": "execute_result"
    }
   ],
   "source": [
    "dist = -1\n",
    "pos1 = np.zeros(18)\n",
    "pos1[pos_2_1hot['DET']] = 1\n",
    "pos2 = np.zeros(18)\n",
    "pos2[pos_2_1hot['VERB']] = 1\n",
    "model.predict(np.concatenate(([dist], pos1, pos2)).reshape(1, -1))"
   ]
  },
  {
   "cell_type": "markdown",
   "metadata": {},
   "source": [
    "As we said, all the weights but the distances are near 0. This will predict (1, 0) if the distance is positive and (0, 1) if it's negative. Negative examples will never be well classed. We should add some so it can class them well. "
   ]
  },
  {
   "cell_type": "markdown",
   "metadata": {},
   "source": [
    "### Add negative examples"
   ]
  }
 ],
 "metadata": {
  "colab": {
   "collapsed_sections": [],
   "name": "1DGAN_v1.ipynb",
   "provenance": [],
   "version": "0.3.2"
  },
  "kernelspec": {
   "display_name": "Python 3",
   "language": "python",
   "name": "python3"
  },
  "language_info": {
   "codemirror_mode": {
    "name": "ipython",
    "version": 3
   },
   "file_extension": ".py",
   "mimetype": "text/x-python",
   "name": "python",
   "nbconvert_exporter": "python",
   "pygments_lexer": "ipython3",
   "version": "3.5.3"
  }
 },
 "nbformat": 4,
 "nbformat_minor": 2
}
