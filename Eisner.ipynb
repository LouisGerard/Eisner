{
 "cells": [
  {
   "cell_type": "markdown",
   "metadata": {},
   "source": [
    "# Dependency Parsing with Eisner\n",
    "Par Louis GERARD & Tiago CORTINHAL"
   ]
  },
  {
   "cell_type": "code",
   "execution_count": 1,
   "metadata": {},
   "outputs": [
    {
     "name": "stderr",
     "output_type": "stream",
     "text": [
      "Using TensorFlow backend.\n"
     ]
    }
   ],
   "source": [
    "import sys\n",
    "venv_root = '/var/lib/vz/data/g13005245/DEEP/'\n",
    "sys.path.append(venv_root + 'lib/python3.5/site-packages')\n",
    "\n",
    "import warnings\n",
    "warnings.filterwarnings('ignore')\n",
    "\n",
    "import utils\n",
    "import f1\n",
    "import f2\n",
    "import f3\n",
    "\n",
    "import time\n",
    "import pandas as pd\n",
    "import numpy as np\n",
    "import keras\n",
    "import matplotlib.pyplot as plt\n",
    "%matplotlib inline\n",
    "from gensim.models import Word2Vec"
   ]
  },
  {
   "cell_type": "markdown",
   "metadata": {
    "toc-hr-collapsed": false
   },
   "source": [
    "## Features 1\n",
    "\n",
    "We start building a model on these features :\n",
    "- Governor POS\n",
    "- Dependant POS\n",
    "- Distance between these words"
   ]
  },
  {
   "cell_type": "markdown",
   "metadata": {},
   "source": [
    "### Read data\n",
    "\n",
    "We read the conllu file to get aall the info we need. In order to make this reusable, we can add any feature to the final list by adding its index to `features_enabled`. Here we have :\n",
    "- the index, to identify our token\n",
    "- the part of speech, which we want to pass to our model\n",
    "- the governor index, to build pairs"
   ]
  },
  {
   "cell_type": "code",
   "execution_count": 2,
   "metadata": {},
   "outputs": [
    {
     "data": {
      "text/html": [
       "<div>\n",
       "<style scoped>\n",
       "    .dataframe tbody tr th:only-of-type {\n",
       "        vertical-align: middle;\n",
       "    }\n",
       "\n",
       "    .dataframe tbody tr th {\n",
       "        vertical-align: top;\n",
       "    }\n",
       "\n",
       "    .dataframe thead th {\n",
       "        text-align: right;\n",
       "    }\n",
       "</style>\n",
       "<table border=\"1\" class=\"dataframe\">\n",
       "  <thead>\n",
       "    <tr style=\"text-align: right;\">\n",
       "      <th></th>\n",
       "      <th>0</th>\n",
       "      <th>1</th>\n",
       "      <th>2</th>\n",
       "      <th>3</th>\n",
       "    </tr>\n",
       "  </thead>\n",
       "  <tbody>\n",
       "    <tr>\n",
       "      <th>0</th>\n",
       "      <td>0</td>\n",
       "      <td>ROOT</td>\n",
       "      <td>0</td>\n",
       "      <td>root</td>\n",
       "    </tr>\n",
       "    <tr>\n",
       "      <th>1</th>\n",
       "      <td>1</td>\n",
       "      <td>ADV</td>\n",
       "      <td>5</td>\n",
       "      <td>advmod</td>\n",
       "    </tr>\n",
       "    <tr>\n",
       "      <th>2</th>\n",
       "      <td>2</td>\n",
       "      <td>PUNCT</td>\n",
       "      <td>5</td>\n",
       "      <td>punct</td>\n",
       "    </tr>\n",
       "    <tr>\n",
       "      <th>3</th>\n",
       "      <td>3</td>\n",
       "      <td>DET</td>\n",
       "      <td>4</td>\n",
       "      <td>det</td>\n",
       "    </tr>\n",
       "    <tr>\n",
       "      <th>4</th>\n",
       "      <td>4</td>\n",
       "      <td>NOUN</td>\n",
       "      <td>5</td>\n",
       "      <td>nsubj</td>\n",
       "    </tr>\n",
       "    <tr>\n",
       "      <th>5</th>\n",
       "      <td>5</td>\n",
       "      <td>VERB</td>\n",
       "      <td>0</td>\n",
       "      <td>root</td>\n",
       "    </tr>\n",
       "    <tr>\n",
       "      <th>6</th>\n",
       "      <td>6</td>\n",
       "      <td>DET</td>\n",
       "      <td>7</td>\n",
       "      <td>det</td>\n",
       "    </tr>\n",
       "    <tr>\n",
       "      <th>7</th>\n",
       "      <td>7</td>\n",
       "      <td>NOUN</td>\n",
       "      <td>5</td>\n",
       "      <td>obj</td>\n",
       "    </tr>\n",
       "    <tr>\n",
       "      <th>8</th>\n",
       "      <td>8</td>\n",
       "      <td>PUNCT</td>\n",
       "      <td>5</td>\n",
       "      <td>punct</td>\n",
       "    </tr>\n",
       "  </tbody>\n",
       "</table>\n",
       "</div>"
      ],
      "text/plain": [
       "   0      1  2       3\n",
       "0  0   ROOT  0    root\n",
       "1  1    ADV  5  advmod\n",
       "2  2  PUNCT  5   punct\n",
       "3  3    DET  4     det\n",
       "4  4   NOUN  5   nsubj\n",
       "5  5   VERB  0    root\n",
       "6  6    DET  7     det\n",
       "7  7   NOUN  5     obj\n",
       "8  8  PUNCT  5   punct"
      ]
     },
     "execution_count": 2,
     "metadata": {},
     "output_type": "execute_result"
    }
   ],
   "source": [
    "sentence = f1.sentences_fr_train[3]\n",
    "pd.DataFrame(sentence)"
   ]
  },
  {
   "cell_type": "markdown",
   "metadata": {
    "toc-hr-collapsed": false
   },
   "source": [
    "### Projectivity"
   ]
  },
  {
   "cell_type": "code",
   "execution_count": 3,
   "metadata": {},
   "outputs": [
    {
     "data": {
      "text/plain": [
       "(1169, '8.03 %')"
      ]
     },
     "execution_count": 3,
     "metadata": {},
     "output_type": "execute_result"
    }
   ],
   "source": [
    "counter_p, proportion_p = utils.count_projectives(f1.sentences_fr_train, f1)\n",
    "counter_p, '%.2f %%' % proportion_p"
   ]
  },
  {
   "cell_type": "code",
   "execution_count": 4,
   "metadata": {},
   "outputs": [
    {
     "data": {
      "text/plain": [
       "(113, '7.65 %')"
      ]
     },
     "execution_count": 4,
     "metadata": {},
     "output_type": "execute_result"
    }
   ],
   "source": [
    "counter_p, proportion_p = utils.count_projectives(f1.sentences_fr_dev, f1)\n",
    "counter_p, '%.2f %%' % proportion_p"
   ]
  },
  {
   "cell_type": "code",
   "execution_count": null,
   "metadata": {},
   "outputs": [
    {
     "data": {
      "text/plain": [
       "(18, '4.33 %')"
      ]
     },
     "execution_count": 5,
     "metadata": {},
     "output_type": "execute_result"
    }
   ],
   "source": [
    "counter_p, proportion_p = utils.count_projectives(f1.sentences_fr_test, f1)\n",
    "counter_p, '%.2f %%' % proportion_p"
   ]
  },
  {
   "cell_type": "markdown",
   "metadata": {
    "toc-hr-collapsed": false
   },
   "source": [
    "### Creating dataset"
   ]
  },
  {
   "cell_type": "markdown",
   "metadata": {},
   "source": [
    "Now we have all the data we need, we can process it to build our dataset. \n",
    "\n",
    "We can't pass directly the part of speech tags to our model, so we need to encod it to an one hot vector. We can compute the distances with the indexes. \n",
    "\n",
    "We can still reuse this code by adapting `index_i`, `pos_i` and `governor_i` to the previous final result and process the added data in `create_example()`. \n",
    "\n",
    "The targets are a bit simplitic because all we need to compute it is the distance. A single neuron with linear activation function, a weight of 1 for the distance and weights of 0 for the POS can do the job. "
   ]
  },
  {
   "cell_type": "markdown",
   "metadata": {},
   "source": [
    "#### Without negatives"
   ]
  },
  {
   "cell_type": "code",
   "execution_count": null,
   "metadata": {},
   "outputs": [
    {
     "data": {
      "text/plain": [
       "((356638, 37), (356638, 39))"
      ]
     },
     "execution_count": 6,
     "metadata": {},
     "output_type": "execute_result"
    }
   ],
   "source": [
    "x_train, y_train = utils.create_dataset(f1.sentences_fr_train, f1)\n",
    "x_train.shape, y_train.shape"
   ]
  },
  {
   "cell_type": "code",
   "execution_count": null,
   "metadata": {},
   "outputs": [
    {
     "data": {
      "text/plain": [
       "((35768, 37), (35768, 39))"
      ]
     },
     "execution_count": 7,
     "metadata": {},
     "output_type": "execute_result"
    }
   ],
   "source": [
    "x_test, y_test = utils.create_dataset(f1.sentences_fr_dev, f1)\n",
    "x_test.shape, y_test.shape"
   ]
  },
  {
   "cell_type": "code",
   "execution_count": null,
   "metadata": {},
   "outputs": [
    {
     "name": "stdout",
     "output_type": "stream",
     "text": [
      "_________________________________________________________________\n",
      "Layer (type)                 Output Shape              Param #   \n",
      "=================================================================\n",
      "dense_1 (Dense)              (None, 39)                1482      \n",
      "=================================================================\n",
      "Total params: 1,482\n",
      "Trainable params: 1,482\n",
      "Non-trainable params: 0\n",
      "_________________________________________________________________\n"
     ]
    }
   ],
   "source": [
    "model = keras.models.Sequential()\n",
    "model.add(keras.layers.Dense(39, activation='sigmoid', input_dim=37))\n",
    "\n",
    "tensorboard = keras.callbacks.TensorBoard(log_dir=\"logs/{}\".format(time.time()))\n",
    "opt = keras.optimizers.Adam(lr=0.0001)\n",
    "\n",
    "model.compile(opt, 'binary_crossentropy', metrics=['accuracy'])\n",
    "model.summary()"
   ]
  },
  {
   "cell_type": "code",
   "execution_count": null,
   "metadata": {},
   "outputs": [
    {
     "data": {
      "image/png": "[encoded data removed]",
      "text/plain": [
       "<Figure size 432x288 with 1 Axes>"
      ]
     },
     "metadata": {
      "needs_background": "light"
     },
     "output_type": "display_data"
    },
    {
     "data": {
      "image/png": "[encoded data removed]",
      "text/plain": [
       "<Figure size 432x288 with 1 Axes>"
      ]
     },
     "metadata": {
      "needs_background": "light"
     },
     "output_type": "display_data"
    }
   ],
   "source": [
    "h = model.fit(x_train, y_train, epochs=100, batch_size=1024, validation_data=(x_test, y_test), verbose=0, callbacks=[tensorboard])\n",
    "\n",
    "x_plt = np.arange(len(h.history['loss']))\n",
    "plt.plot(x_plt, h.history['loss'], label='train')\n",
    "plt.plot(x_plt, h.history['val_loss'], label='test')\n",
    "plt.show()\n",
    "\n",
    "plt.plot(x_plt, h.history['acc'], label='train')\n",
    "plt.plot(x_plt, h.history['val_acc'], label='test')\n",
    "plt.show()"
   ]
  },
  {
   "cell_type": "markdown",
   "metadata": {},
   "source": [
    "#### With negatives"
   ]
  },
  {
   "cell_type": "code",
   "execution_count": null,
   "metadata": {},
   "outputs": [
    {
     "data": {
      "text/plain": [
       "((713276, 37), (713276, 39))"
      ]
     },
     "execution_count": 10,
     "metadata": {},
     "output_type": "execute_result"
    }
   ],
   "source": [
    "x_train_n, y_train_n = utils.create_dataset(f1.sentences_fr_train, f1, with_negatives=True)\n",
    "x_train_n.shape, y_train_n.shape"
   ]
  },
  {
   "cell_type": "code",
   "execution_count": null,
   "metadata": {},
   "outputs": [
    {
     "data": {
      "text/plain": [
       "((71536, 37), (71536, 39))"
      ]
     },
     "execution_count": 11,
     "metadata": {},
     "output_type": "execute_result"
    }
   ],
   "source": [
    "x_test_n, y_test_n = utils.create_dataset(f1.sentences_fr_dev, f1, with_negatives=True)\n",
    "x_test_n.shape, y_test_n.shape"
   ]
  },
  {
   "cell_type": "code",
   "execution_count": null,
   "metadata": {},
   "outputs": [
    {
     "name": "stdout",
     "output_type": "stream",
     "text": [
      "_________________________________________________________________\n",
      "Layer (type)                 Output Shape              Param #   \n",
      "=================================================================\n",
      "dense_2 (Dense)              (None, 39)                1482      \n",
      "=================================================================\n",
      "Total params: 1,482\n",
      "Trainable params: 1,482\n",
      "Non-trainable params: 0\n",
      "_________________________________________________________________\n"
     ]
    }
   ],
   "source": [
    "model_n = keras.models.Sequential()\n",
    "model_n.add(keras.layers.Dense(39, activation='softplus', input_dim=37))\n",
    "\n",
    "tensorboard = keras.callbacks.TensorBoard(log_dir=\"logs/{}\".format(time.time()))\n",
    "opt = keras.optimizers.Adam(lr=0.0001)\n",
    "\n",
    "model_n.compile(opt, 'categorical_crossentropy', metrics=['accuracy'])\n",
    "model_n.summary()"
   ]
  },
  {
   "cell_type": "code",
   "execution_count": null,
   "metadata": {},
   "outputs": [],
   "source": [
    "h = model_n.fit(x_train_n, y_train_n, epochs=100, batch_size=1024, validation_data=(x_test_n, y_test_n), verbose=0, callbacks=[tensorboard])\n",
    "\n",
    "x_plt = np.arange(len(h.history['loss']))\n",
    "plt.plot(x_plt, h.history['loss'], label='train')\n",
    "plt.plot(x_plt, h.history['val_loss'], label='test')\n",
    "plt.show()\n",
    "\n",
    "plt.plot(x_plt, h.history['acc'], label='train')\n",
    "plt.plot(x_plt, h.history['val_acc'], label='test')\n",
    "plt.show()"
   ]
  },
  {
   "cell_type": "markdown",
   "metadata": {},
   "source": [
    "#### Some tests"
   ]
  },
  {
   "cell_type": "code",
   "execution_count": null,
   "metadata": {},
   "outputs": [],
   "source": [
    "for s in sentence:\n",
    "    print(s)\n",
    "    x, _ = f1.create_example(s, sentence[int(s[f1.governor_i])])\n",
    "    prediction = model.predict(x.reshape(1, -1))[0]\n",
    "    prediction_n = model_n.predict(x.reshape(1, -1))[0]\n",
    "    \n",
    "    i2 = np.argmax(prediction[2:])\n",
    "    label2 = utils.onehot_2_label[i2]\n",
    "    print('Without negatives :', label2, prediction[i2+2], prediction[:2])\n",
    "\n",
    "    i = np.argmax(prediction_n[2:])\n",
    "    label = utils.onehot_2_label[i]\n",
    "    print('With negatives :', label, prediction_n[i+2], prediction_n[:2], '\\n')"
   ]
  },
  {
   "cell_type": "markdown",
   "metadata": {},
   "source": [
    "#### Eisner's algorithm"
   ]
  },
  {
   "cell_type": "markdown",
   "metadata": {},
   "source": [
    "Now we have our model, we can use it to create the dependency parsing itself with Eisner's algorithm. \n",
    "\n",
    "[Explanatory video](https://youtu.be/du9VQaFEyeA)"
   ]
  },
  {
   "cell_type": "code",
   "execution_count": null,
   "metadata": {},
   "outputs": [],
   "source": [
    "full_left, full_right, part, labels = utils.eisner(sentence, f1, model=model)\n",
    "full_left_n, full_right_n, part_n, labels_n = utils.eisner(sentence, f1, model=model_n)\n",
    "true_full_left, true_full_right, true_part, true_labels = utils.eisner(sentence, f1, perfect=True)"
   ]
  },
  {
   "cell_type": "markdown",
   "metadata": {},
   "source": [
    "#### Decomposition"
   ]
  },
  {
   "cell_type": "code",
   "execution_count": null,
   "metadata": {},
   "outputs": [],
   "source": [
    "sentence_predicted = utils.predict_sentence(sentence, f1, full_left, full_right, part, labels)\n",
    "pd.DataFrame(sentence_predicted)"
   ]
  },
  {
   "cell_type": "code",
   "execution_count": null,
   "metadata": {},
   "outputs": [],
   "source": [
    "utils.compare(pd.DataFrame(sentence_predicted)[[f1.governor_i, f1.label_i]], pd.DataFrame(sentence)[[f1.governor_i, f1.label_i]])"
   ]
  },
  {
   "cell_type": "code",
   "execution_count": null,
   "metadata": {},
   "outputs": [],
   "source": [
    "sentence_predicted = utils.predict_sentence(sentence, f1, full_left_n, full_right_n, part_n, labels_n)\n",
    "pd.DataFrame(sentence_predicted)"
   ]
  },
  {
   "cell_type": "code",
   "execution_count": null,
   "metadata": {},
   "outputs": [],
   "source": [
    "utils.compare(pd.DataFrame(sentence_predicted)[[f1.governor_i, f1.label_i]], pd.DataFrame(sentence)[[f1.governor_i, f1.label_i]])"
   ]
  },
  {
   "cell_type": "markdown",
   "metadata": {},
   "source": [
    "### LAS scores"
   ]
  },
  {
   "cell_type": "code",
   "execution_count": null,
   "metadata": {},
   "outputs": [],
   "source": [
    "sentences_test = utils.predict_sentences('UD_French-GSD/fr_gsd-ud-test.conllu', f1, model=model)\n",
    "utils.write_conllu(sentences_test, f1, 'UD_French-GSD/fr_gsd-ud-test.conllu', 'fr_test.conll')\n",
    "utils.score_las('fr_test.conll', 'UD_French-GSD/fr_gsd-ud-test.conllu')"
   ]
  },
  {
   "cell_type": "code",
   "execution_count": null,
   "metadata": {},
   "outputs": [],
   "source": [
    "sentences_test = utils.predict_sentences('UD_French-GSD/fr_gsd-ud-test.conllu', f1, model=model_n)\n",
    "utils.write_conllu(sentences_test, f1, 'UD_French-GSD/fr_gsd-ud-test.conllu', 'fr_test_n.conll')\n",
    "utils.score_las('fr_test_n.conll', 'UD_French-GSD/fr_gsd-ud-test.conllu')"
   ]
  },
  {
   "cell_type": "markdown",
   "metadata": {
    "toc-hr-collapsed": false
   },
   "source": [
    "## F1 English"
   ]
  },
  {
   "cell_type": "code",
   "execution_count": null,
   "metadata": {},
   "outputs": [],
   "source": [
    "sentence = f1.sentences_en_dev[3]\n",
    "pd.DataFrame(sentence)"
   ]
  },
  {
   "cell_type": "markdown",
   "metadata": {},
   "source": [
    "### Projectivity"
   ]
  },
  {
   "cell_type": "code",
   "execution_count": null,
   "metadata": {},
   "outputs": [],
   "source": [
    "counter_p, proportion_p = utils.count_projectives(f1.sentences_en_train, f1)\n",
    "counter_p, '%.2f %%' % proportion_p"
   ]
  },
  {
   "cell_type": "code",
   "execution_count": null,
   "metadata": {},
   "outputs": [],
   "source": [
    "counter_p, proportion_p = utils.count_projectives(f1.sentences_en_dev, f1)\n",
    "counter_p, '%.2f %%' % proportion_p"
   ]
  },
  {
   "cell_type": "code",
   "execution_count": null,
   "metadata": {},
   "outputs": [],
   "source": [
    "counter_p, proportion_p = utils.count_projectives(f1.sentences_en_test, f1)\n",
    "counter_p, '%.2f %%' % proportion_p"
   ]
  },
  {
   "cell_type": "markdown",
   "metadata": {
    "toc-hr-collapsed": false
   },
   "source": [
    "### Creating Dataset"
   ]
  },
  {
   "cell_type": "markdown",
   "metadata": {},
   "source": [
    "#### Without Negatives"
   ]
  },
  {
   "cell_type": "code",
   "execution_count": null,
   "metadata": {},
   "outputs": [],
   "source": [
    "x_train, y_train = utils.create_dataset(f1.sentences_en_train, f1)\n",
    "x_train.shape, y_train.shape"
   ]
  },
  {
   "cell_type": "code",
   "execution_count": null,
   "metadata": {},
   "outputs": [],
   "source": [
    "x_test, y_test = utils.create_dataset(f1.sentences_en_dev, f1)\n",
    "x_test.shape, y_test.shape"
   ]
  },
  {
   "cell_type": "code",
   "execution_count": null,
   "metadata": {},
   "outputs": [],
   "source": [
    "model = keras.models.Sequential()\n",
    "model.add(keras.layers.Dense(39, activation='sigmoid', input_dim=37))\n",
    "\n",
    "tensorboard = keras.callbacks.TensorBoard(log_dir=\"logs/{}\".format(time.time()))\n",
    "opt = keras.optimizers.Adam(lr=0.0001)\n",
    "\n",
    "model.compile(opt, 'binary_crossentropy', metrics=['accuracy'])\n",
    "model.summary()"
   ]
  },
  {
   "cell_type": "code",
   "execution_count": null,
   "metadata": {},
   "outputs": [],
   "source": [
    "h = model.fit(x_train, y_train, epochs=100, batch_size=1024, validation_data=(x_test, y_test), verbose=0, callbacks=[tensorboard])\n",
    "\n",
    "x_plt = np.arange(len(h.history['loss']))\n",
    "plt.plot(x_plt, h.history['loss'], label='train')\n",
    "plt.plot(x_plt, h.history['val_loss'], label='test')\n",
    "plt.show()\n",
    "\n",
    "plt.plot(x_plt, h.history['acc'], label='train')\n",
    "plt.plot(x_plt, h.history['val_acc'], label='test')\n",
    "plt.show()"
   ]
  },
  {
   "cell_type": "markdown",
   "metadata": {},
   "source": [
    "#### With Negatives"
   ]
  },
  {
   "cell_type": "code",
   "execution_count": null,
   "metadata": {},
   "outputs": [],
   "source": [
    "x_test, y_test = utils.create_dataset(f1.sentences_en_dev, f1,with_negatives=True)\n",
    "x_test.shape, y_test.shape"
   ]
  },
  {
   "cell_type": "code",
   "execution_count": null,
   "metadata": {},
   "outputs": [],
   "source": [
    "x_train, y_train = utils.create_dataset(f1.sentences_en_train, f1,with_negatives=True)\n",
    "x_train.shape, y_train.shape"
   ]
  },
  {
   "cell_type": "code",
   "execution_count": null,
   "metadata": {},
   "outputs": [],
   "source": [
    "model_n = keras.models.Sequential()\n",
    "model_n.add(keras.layers.Dense(39, activation='sigmoid', input_dim=37))\n",
    "\n",
    "tensorboard = keras.callbacks.TensorBoard(log_dir=\"logs/{}\".format(time.time()))\n",
    "opt = keras.optimizers.Adam(lr=0.0001)\n",
    "\n",
    "model_n.compile(opt, 'binary_crossentropy', metrics=['accuracy'])\n",
    "model_n.summary()"
   ]
  },
  {
   "cell_type": "code",
   "execution_count": null,
   "metadata": {},
   "outputs": [],
   "source": [
    "h = model_n.fit(x_train, y_train, epochs=100, batch_size=1024, validation_data=(x_test, y_test), verbose=0, callbacks=[tensorboard])\n",
    "\n",
    "x_plt = np.arange(len(h.history['loss']))\n",
    "plt.plot(x_plt, h.history['loss'], label='train')\n",
    "plt.plot(x_plt, h.history['val_loss'], label='test')\n",
    "plt.show()\n",
    "\n",
    "plt.plot(x_plt, h.history['acc'], label='train')\n",
    "plt.plot(x_plt, h.history['val_acc'], label='test')\n",
    "plt.show()"
   ]
  },
  {
   "cell_type": "markdown",
   "metadata": {},
   "source": [
    "#### LAS Score"
   ]
  },
  {
   "cell_type": "code",
   "execution_count": null,
   "metadata": {},
   "outputs": [],
   "source": [
    "sentences_test = utils.predict_sentences(\"UD_English-LinES/en_lines-ud-test.conllu\", f1, model=model)\n",
    "\n",
    "utils.write_conllu(sentences_test, f1, \"UD_English-LinES/en_lines-ud-test.conllu\", 'en_test.conll')\n",
    "utils.score_las('en_test.conll', \"UD_English-LinES/en_lines-ud-test.conllu\")"
   ]
  },
  {
   "cell_type": "code",
   "execution_count": null,
   "metadata": {},
   "outputs": [],
   "source": [
    "sentences_test = utils.predict_sentences(\"UD_English-LinES/en_lines-ud-test.conllu\", f1, model=model_n)\n",
    "\n",
    "utils.write_conllu(sentences_test, f1, \"UD_English-LinES/en_lines-ud-test.conllu\", 'en_test_n.conll')\n",
    "utils.score_las('en_test_n.conll', \"UD_English-LinES/en_lines-ud-test.conllu\")"
   ]
  },
  {
   "cell_type": "markdown",
   "metadata": {
    "toc-hr-collapsed": false
   },
   "source": [
    "## F1 Dutch"
   ]
  },
  {
   "cell_type": "code",
   "execution_count": null,
   "metadata": {},
   "outputs": [],
   "source": [
    "sentence = f1.sentences_nl_dev[3]\n",
    "pd.DataFrame(sentence)"
   ]
  },
  {
   "cell_type": "markdown",
   "metadata": {},
   "source": [
    "### Projectivity"
   ]
  },
  {
   "cell_type": "code",
   "execution_count": null,
   "metadata": {},
   "outputs": [],
   "source": [
    "counter_p, proportion_p = utils.count_projectives(f1.sentences_nl_train, f1)\n",
    "counter_p, '%.2f %%' % proportion_p"
   ]
  },
  {
   "cell_type": "code",
   "execution_count": null,
   "metadata": {},
   "outputs": [],
   "source": [
    "counter_p, proportion_p = utils.count_projectives(f1.sentences_nl_dev, f1)\n",
    "counter_p, '%.2f %%' % proportion_p"
   ]
  },
  {
   "cell_type": "code",
   "execution_count": null,
   "metadata": {},
   "outputs": [],
   "source": [
    "counter_p, proportion_p = utils.count_projectives(f1.sentences_nl_test, f1)\n",
    "counter_p, '%.2f %%' % proportion_p"
   ]
  },
  {
   "cell_type": "markdown",
   "metadata": {
    "toc-hr-collapsed": false
   },
   "source": [
    "### Creating Dataset"
   ]
  },
  {
   "cell_type": "markdown",
   "metadata": {},
   "source": [
    "#### Without Negative "
   ]
  },
  {
   "cell_type": "code",
   "execution_count": null,
   "metadata": {},
   "outputs": [],
   "source": [
    "x_train, y_train = utils.create_dataset(f1.sentences_nl_train, f1)\n",
    "x_train.shape, y_train.shape"
   ]
  },
  {
   "cell_type": "code",
   "execution_count": null,
   "metadata": {},
   "outputs": [],
   "source": [
    "x_test, y_test = utils.create_dataset(f1.sentences_nl_dev, f1)\n",
    "x_train.shape, y_train.shape"
   ]
  },
  {
   "cell_type": "code",
   "execution_count": null,
   "metadata": {},
   "outputs": [],
   "source": [
    "model = keras.models.Sequential()\n",
    "model.add(keras.layers.Dense(39, activation='sigmoid', input_dim=37))\n",
    "\n",
    "tensorboard = keras.callbacks.TensorBoard(log_dir=\"logs/{}\".format(time.time()))\n",
    "opt = keras.optimizers.Adam(lr=0.0001)\n",
    "\n",
    "model.compile(opt, 'binary_crossentropy', metrics=['accuracy'])\n",
    "model.summary()"
   ]
  },
  {
   "cell_type": "code",
   "execution_count": null,
   "metadata": {},
   "outputs": [],
   "source": [
    "h = model.fit(x_train, y_train, epochs=100, batch_size=1024, validation_data=(x_test, y_test), verbose=0, callbacks=[tensorboard])\n",
    "\n",
    "x_plt = np.arange(len(h.history['loss']))\n",
    "plt.plot(x_plt, h.history['loss'], label='train')\n",
    "plt.plot(x_plt, h.history['val_loss'], label='test')\n",
    "plt.show()\n",
    "\n",
    "plt.plot(x_plt, h.history['acc'], label='train')\n",
    "plt.plot(x_plt, h.history['val_acc'], label='test')\n",
    "plt.show()"
   ]
  },
  {
   "cell_type": "markdown",
   "metadata": {},
   "source": [
    "#### With negatives "
   ]
  },
  {
   "cell_type": "code",
   "execution_count": null,
   "metadata": {},
   "outputs": [],
   "source": [
    "x_train, y_train = utils.create_dataset(f1.sentences_nl_train, f1,with_negatives=True)\n",
    "x_train.shape, y_train.shape"
   ]
  },
  {
   "cell_type": "code",
   "execution_count": null,
   "metadata": {},
   "outputs": [],
   "source": [
    "x_test, y_test = utils.create_dataset(f1.sentences_nl_dev, f1, with_negatives=True)\n",
    "x_train.shape, y_train.shape"
   ]
  },
  {
   "cell_type": "code",
   "execution_count": null,
   "metadata": {},
   "outputs": [],
   "source": [
    "model_n = keras.models.Sequential()\n",
    "model_n.add(keras.layers.Dense(39, activation='sigmoid', input_dim=37))\n",
    "\n",
    "tensorboard = keras.callbacks.TensorBoard(log_dir=\"logs/{}\".format(time.time()))\n",
    "opt = keras.optimizers.Adam(lr=0.0001)\n",
    "\n",
    "model_n.compile(opt, 'binary_crossentropy', metrics=['accuracy'])\n",
    "model_n.summary()"
   ]
  },
  {
   "cell_type": "code",
   "execution_count": null,
   "metadata": {},
   "outputs": [],
   "source": [
    "h = model_n.fit(x_train, y_train, epochs=100, batch_size=1024, validation_data=(x_test, y_test), verbose=0, callbacks=[tensorboard])\n",
    "\n",
    "x_plt = np.arange(len(h.history['loss']))\n",
    "plt.plot(x_plt, h.history['loss'], label='train')\n",
    "plt.plot(x_plt, h.history['val_loss'], label='test')\n",
    "plt.show()\n",
    "\n",
    "plt.plot(x_plt, h.history['acc'], label='train')\n",
    "plt.plot(x_plt, h.history['val_acc'], label='test')\n",
    "plt.show()"
   ]
  },
  {
   "cell_type": "markdown",
   "metadata": {},
   "source": [
    "### LAS Scores"
   ]
  },
  {
   "cell_type": "code",
   "execution_count": null,
   "metadata": {},
   "outputs": [],
   "source": [
    "sentences_test = utils.predict_sentences(\"UD_Dutch-LassySmall/nl_lassysmall-ud-test.conllu\", f1, model=model)\n",
    "\n",
    "utils.write_conllu(sentences_test, f1, \"UD_Dutch-LassySmall/nl_lassysmall-ud-test.conllu\", 'nl_test.conll')\n",
    "utils.score_las('nl_test.conll', \"UD_Dutch-LassySmall/nl_lassysmall-ud-test.conllu\")"
   ]
  },
  {
   "cell_type": "code",
   "execution_count": null,
   "metadata": {},
   "outputs": [],
   "source": [
    "sentences_test = utils.predict_sentences(\"UD_Dutch-LassySmall/nl_lassysmall-ud-test.conllu\", f1, model=model_n)\n",
    "\n",
    "utils.write_conllu(sentences_test, f1, \"UD_Dutch-LassySmall/nl_lassysmall-ud-test.conllu\", 'nl_test_n.conll')\n",
    "utils.score_las('nl_test_n.conll', \"UD_Dutch-LassySmall/nl_lassysmall-ud-test.conllu\")"
   ]
  },
  {
   "cell_type": "markdown",
   "metadata": {
    "toc-hr-collapsed": false
   },
   "source": [
    "## F1 Japanese"
   ]
  },
  {
   "cell_type": "code",
   "execution_count": null,
   "metadata": {},
   "outputs": [],
   "source": [
    "sentence = f1.sentences_ja_dev[3]\n",
    "pd.DataFrame(sentence)"
   ]
  },
  {
   "cell_type": "markdown",
   "metadata": {},
   "source": [
    "### Projectivity"
   ]
  },
  {
   "cell_type": "code",
   "execution_count": null,
   "metadata": {},
   "outputs": [],
   "source": [
    "counter_p, proportion_p = utils.count_projectives(f1.sentences_ja_train, f1)\n",
    "counter_p, '%.2f %%' % proportion_p"
   ]
  },
  {
   "cell_type": "code",
   "execution_count": null,
   "metadata": {},
   "outputs": [],
   "source": [
    "counter_p, proportion_p = utils.count_projectives(f1.sentences_ja_dev, f1)\n",
    "counter_p, '%.2f %%' % proportion_p"
   ]
  },
  {
   "cell_type": "code",
   "execution_count": null,
   "metadata": {},
   "outputs": [],
   "source": [
    "counter_p, proportion_p = utils.count_projectives(f1.sentences_ja_test, f1)\n",
    "counter_p, '%.2f %%' % proportion_p"
   ]
  },
  {
   "cell_type": "markdown",
   "metadata": {},
   "source": [
    "### Creating Dataset"
   ]
  },
  {
   "cell_type": "markdown",
   "metadata": {},
   "source": [
    "#### Without Negatives"
   ]
  },
  {
   "cell_type": "code",
   "execution_count": null,
   "metadata": {},
   "outputs": [],
   "source": [
    "x_train, y_train = utils.create_dataset(f1.sentences_ja_train, f1)\n",
    "x_train.shape, y_train.shape"
   ]
  },
  {
   "cell_type": "code",
   "execution_count": null,
   "metadata": {},
   "outputs": [],
   "source": [
    "x_test, y_test = utils.create_dataset(f1.sentences_ja_dev, f1)\n",
    "x_train.shape, y_train.shape"
   ]
  },
  {
   "cell_type": "code",
   "execution_count": null,
   "metadata": {},
   "outputs": [],
   "source": [
    "model = keras.models.Sequential()\n",
    "model.add(keras.layers.Dense(39, activation='sigmoid', input_dim=37))\n",
    "\n",
    "tensorboard = keras.callbacks.TensorBoard(log_dir=\"logs/{}\".format(time.time()))\n",
    "opt = keras.optimizers.Adam(lr=0.0001)\n",
    "\n",
    "model.compile(opt, 'binary_crossentropy', metrics=['accuracy'])\n",
    "model.summary()"
   ]
  },
  {
   "cell_type": "code",
   "execution_count": null,
   "metadata": {},
   "outputs": [],
   "source": [
    "h = model.fit(x_train, y_train, epochs=100, batch_size=1024, validation_data=(x_test, y_test), verbose=0, callbacks=[tensorboard])\n",
    "\n",
    "x_plt = np.arange(len(h.history['loss']))\n",
    "plt.plot(x_plt, h.history['loss'], label='train')\n",
    "plt.plot(x_plt, h.history['val_loss'], label='test')\n",
    "plt.show()\n",
    "\n",
    "plt.plot(x_plt, h.history['acc'], label='train')\n",
    "plt.plot(x_plt, h.history['val_acc'], label='test')\n",
    "plt.show()"
   ]
  },
  {
   "cell_type": "markdown",
   "metadata": {},
   "source": [
    "#### With Negatives"
   ]
  },
  {
   "cell_type": "code",
   "execution_count": null,
   "metadata": {},
   "outputs": [],
   "source": [
    "x_train, y_train = utils.create_dataset(f1.sentences_ja_train, f1, with_negatives=True)\n",
    "x_train.shape, y_train.shape"
   ]
  },
  {
   "cell_type": "code",
   "execution_count": null,
   "metadata": {},
   "outputs": [],
   "source": [
    "x_test, y_test = utils.create_dataset(f1.sentences_ja_dev, f1, with_negatives=True)\n",
    "x_train.shape, y_train.shape"
   ]
  },
  {
   "cell_type": "code",
   "execution_count": null,
   "metadata": {},
   "outputs": [],
   "source": [
    "model_n = keras.models.Sequential()\n",
    "model_n.add(keras.layers.Dense(39, activation='sigmoid', input_dim=37))\n",
    "\n",
    "tensorboard = keras.callbacks.TensorBoard(log_dir=\"logs/{}\".format(time.time()))\n",
    "opt = keras.optimizers.Adam(lr=0.0001)\n",
    "\n",
    "model_n.compile(opt, 'binary_crossentropy', metrics=['accuracy'])\n",
    "model_n.summary()"
   ]
  },
  {
   "cell_type": "code",
   "execution_count": null,
   "metadata": {},
   "outputs": [],
   "source": [
    "h = model_n.fit(x_train, y_train, epochs=100, batch_size=1024, validation_data=(x_test, y_test), verbose=0, callbacks=[tensorboard])\n",
    "\n",
    "x_plt = np.arange(len(h.history['loss']))\n",
    "plt.plot(x_plt, h.history['loss'], label='train')\n",
    "plt.plot(x_plt, h.history['val_loss'], label='test')\n",
    "plt.show()\n",
    "\n",
    "plt.plot(x_plt, h.history['acc'], label='train')\n",
    "plt.plot(x_plt, h.history['val_acc'], label='test')\n",
    "plt.show()"
   ]
  },
  {
   "cell_type": "markdown",
   "metadata": {},
   "source": [
    "### LAS Score"
   ]
  },
  {
   "cell_type": "code",
   "execution_count": null,
   "metadata": {},
   "outputs": [],
   "source": [
    "sentences_test = utils.predict_sentences(\"UD_Japanese-GSD-master/ja_gsd-ud-test.conllu\", f1, model=model)\n",
    "\n",
    "utils.write_conllu(sentences_test, f1, \"UD_Japanese-GSD-master/ja_gsd-ud-test.conllu\", 'ja_test.conll')\n",
    "utils.score_las('ja_test.conll', \"UD_Japanese-GSD-master/ja_gsd-ud-test.conllu\")"
   ]
  },
  {
   "cell_type": "code",
   "execution_count": null,
   "metadata": {},
   "outputs": [],
   "source": [
    "sentences_test = utils.predict_sentences(\"UD_Japanese-GSD-master/ja_gsd-ud-test.conllu\", f1, model=model_n)\n",
    "\n",
    "utils.write_conllu(sentences_test, f1, \"UD_Japanese-GSD-master/ja_gsd-ud-test.conllu\", 'ja_test_n.conll')\n",
    "utils.score_las('ja_test_n.conll', \"UD_Japanese-GSD-master/ja_gsd-ud-test.conllu\")"
   ]
  },
  {
   "cell_type": "markdown",
   "metadata": {},
   "source": [
    "## F2 features French"
   ]
  },
  {
   "cell_type": "code",
   "execution_count": null,
   "metadata": {},
   "outputs": [],
   "source": [
    "sentence = f2.sentences_fr_train[3]\n",
    "pd.DataFrame(sentence)"
   ]
  },
  {
   "cell_type": "markdown",
   "metadata": {},
   "source": [
    "## Morphology Exploration"
   ]
  },
  {
   "cell_type": "code",
   "execution_count": 2,
   "metadata": {},
   "outputs": [
    {
     "data": {
      "text/plain": [
       "(172186, 371192, '46.39 %')"
      ]
     },
     "execution_count": 2,
     "metadata": {},
     "output_type": "execute_result"
    }
   ],
   "source": [
    "morphos, no_morpho_count, word_count = f2.count_morphos(f2.sentences_fr_train)\n",
    "no_morpho_count, word_count, '%.2f %%' % (no_morpho_count / word_count * 100)"
   ]
  },
  {
   "cell_type": "code",
   "execution_count": null,
   "metadata": {},
   "outputs": [],
   "source": [
    "inputs_count = 0\n",
    "for m in morphos:\n",
    "    inputs_count += len(m)\n",
    "inputs_count"
   ]
  },
  {
   "cell_type": "code",
   "execution_count": null,
   "metadata": {},
   "outputs": [],
   "source": [
    "morphos"
   ]
  },
  {
   "cell_type": "code",
   "execution_count": 3,
   "metadata": {},
   "outputs": [],
   "source": [
    "f2.remove_morpho(['Case', 'Degree'], f2.sentences_fr_train, morphos)"
   ]
  },
  {
   "cell_type": "code",
   "execution_count": 4,
   "metadata": {},
   "outputs": [],
   "source": [
    "morphos_vec = f2.morpho_2_vec(morphos)"
   ]
  },
  {
   "cell_type": "code",
   "execution_count": null,
   "metadata": {},
   "outputs": [],
   "source": [
    "print(sentence[3][f2.morpho_i])\n",
    "f2.convert_morpho(sentence[3], morphos_vec)"
   ]
  },
  {
   "cell_type": "markdown",
   "metadata": {},
   "source": [
    "## Embeddings"
   ]
  },
  {
   "cell_type": "code",
   "execution_count": null,
   "metadata": {},
   "outputs": [],
   "source": [
    "txts = []\n",
    "for s in sentence:\n",
    "    txts.append(list(s.T[lemma_i]))"
   ]
  },
  {
   "cell_type": "code",
   "execution_count": null,
   "metadata": {},
   "outputs": [],
   "source": [
    "word2vec = Word2Vec(txts, size=100, window=5, min_count=1, workers=20, iter=13)"
   ]
  },
  {
   "cell_type": "code",
   "execution_count": null,
   "metadata": {},
   "outputs": [],
   "source": [
    "word2vec.most_similar('homme')"
   ]
  },
  {
   "cell_type": "code",
   "execution_count": 5,
   "metadata": {},
   "outputs": [],
   "source": [
    "embeddings = f2.load_embedding_tsv('embeddings/fr.tsv')"
   ]
  },
  {
   "cell_type": "code",
   "execution_count": 6,
   "metadata": {},
   "outputs": [
    {
     "name": "stdout",
     "output_type": "stream",
     "text": [
      "aventurier 0.3812869298843866\n",
      "aristocrate 0.41586075197264827\n",
      "garçon 0.42669343291005124\n",
      "vieillard 0.42848045450211325\n",
      "délinquant 0.4517847652614828\n",
      "écrivain 0.462098919208601\n",
      "politicien 0.4643771199670472\n",
      "escroc 0.46441918350310585\n",
      "orateur 0.47624799682468577\n",
      "érudit 0.4801901703996774\n"
     ]
    }
   ],
   "source": [
    "for w, d in f2.most_similar('homme', embeddings):\n",
    "    print(w, d)"
   ]
  },
  {
   "cell_type": "code",
   "execution_count": 7,
   "metadata": {},
   "outputs": [
    {
     "name": "stdout",
     "output_type": "stream",
     "text": [
      "servante 0.27001328890807663\n",
      "mère 0.27587044941978245\n",
      "fille 0.28304991668249113\n",
      "belle-mère 0.3160642425882113\n",
      "fiancée 0.32169272506347235\n",
      "compagne 0.3242348885116416\n",
      "sœur 0.3276623007064734\n",
      "prostituée 0.3331958262205478\n",
      "nourrice 0.334836847918482\n",
      "demi-sœur 0.3499454120589943\n"
     ]
    }
   ],
   "source": [
    "for w, d in f2.most_similar('femme', embeddings):\n",
    "    print(w, d)"
   ]
  },
  {
   "cell_type": "code",
   "execution_count": 8,
   "metadata": {},
   "outputs": [],
   "source": [
    "mean_embedding = f2.default_embedding(embeddings, len(embeddings['homme']))"
   ]
  },
  {
   "cell_type": "markdown",
   "metadata": {},
   "source": [
    "## Data"
   ]
  },
  {
   "cell_type": "code",
   "execution_count": 9,
   "metadata": {},
   "outputs": [
    {
     "data": {
      "text/plain": [
       "((356638, 793), (356638, 39))"
      ]
     },
     "execution_count": 9,
     "metadata": {},
     "output_type": "execute_result"
    }
   ],
   "source": [
    "x_train, y_train = utils.create_dataset(f2.sentences_fr_train, f2, morphos_vec, embeddings, mean_embedding, with_negatives=False)\n",
    "x_train.shape, y_train.shape"
   ]
  },
  {
   "cell_type": "code",
   "execution_count": 10,
   "metadata": {},
   "outputs": [
    {
     "data": {
      "text/plain": [
       "((35768, 793), (35768, 39))"
      ]
     },
     "execution_count": 10,
     "metadata": {},
     "output_type": "execute_result"
    }
   ],
   "source": [
    "x_test, y_test = utils.create_dataset(f2.sentences_fr_dev, f2, morphos_vec, embeddings, mean_embedding, with_negatives=False)\n",
    "x_test.shape, y_test.shape"
   ]
  },
  {
   "cell_type": "markdown",
   "metadata": {},
   "source": [
    "## Model"
   ]
  },
  {
   "cell_type": "code",
   "execution_count": 11,
   "metadata": {},
   "outputs": [
    {
     "name": "stdout",
     "output_type": "stream",
     "text": [
      "_________________________________________________________________\n",
      "Layer (type)                 Output Shape              Param #   \n",
      "=================================================================\n",
      "dense_1 (Dense)              (None, 393)               312042    \n",
      "_________________________________________________________________\n",
      "dense_2 (Dense)              (None, 150)               59100     \n",
      "_________________________________________________________________\n",
      "dense_3 (Dense)              (None, 39)                5889      \n",
      "=================================================================\n",
      "Total params: 377,031\n",
      "Trainable params: 377,031\n",
      "Non-trainable params: 0\n",
      "_________________________________________________________________\n"
     ]
    }
   ],
   "source": [
    "modelf2 = keras.models.Sequential()\n",
    "modelf2.add(keras.layers.Dense(393, activation='sigmoid', input_dim=793))\n",
    "modelf2.add(keras.layers.Dense(150, activation='sigmoid'))\n",
    "modelf2.add(keras.layers.Dense(39, activation='softplus'))\n",
    "\n",
    "tensorboard = keras.callbacks.TensorBoard(log_dir=\"logs/{}\".format(time.time()))\n",
    "opt = keras.optimizers.Adam(lr=0.0001)\n",
    "\n",
    "modelf2.compile(opt, 'categorical_crossentropy', metrics=['accuracy'])\n",
    "modelf2.summary()"
   ]
  },
  {
   "cell_type": "code",
   "execution_count": 12,
   "metadata": {},
   "outputs": [
    {
     "data": {
      "image/png": "[encoded data removed]",
      "text/plain": [
       "<Figure size 432x288 with 1 Axes>"
      ]
     },
     "metadata": {},
     "output_type": "display_data"
    },
    {
     "data": {
      "image/png": "[encoded data removed]",
      "text/plain": [
       "<Figure size 432x288 with 1 Axes>"
      ]
     },
     "metadata": {},
     "output_type": "display_data"
    }
   ],
   "source": [
    "h = modelf2.fit(x_train, y_train, epochs=70, batch_size=1024, validation_data=(x_test, y_test), verbose=0, callbacks=[tensorboard])\n",
    "\n",
    "x_plt = np.arange(len(h.history['loss']))\n",
    "plt.plot(x_plt, h.history['loss'], label='train')\n",
    "plt.plot(x_plt, h.history['val_loss'], label='test')\n",
    "plt.show()\n",
    "\n",
    "plt.plot(x_plt, h.history['acc'], label='train')\n",
    "plt.plot(x_plt, h.history['val_acc'], label='test')\n",
    "plt.show()"
   ]
  },
  {
   "cell_type": "markdown",
   "metadata": {},
   "source": [
    "## Eisner"
   ]
  },
  {
   "cell_type": "code",
   "execution_count": 13,
   "metadata": {},
   "outputs": [
    {
     "data": {
      "text/plain": [
       "0.6028942115768463"
      ]
     },
     "execution_count": 13,
     "metadata": {},
     "output_type": "execute_result"
    }
   ],
   "source": [
    "sentences_test = utils.predict_sentences(\n",
    "    'UD_French-GSD/fr_gsd-ud-test.conllu', \n",
    "     f2, \n",
    "     morphos_vec, \n",
    "     embeddings,\n",
    "     mean_embedding, \n",
    "     model=modelf2, \n",
    "     features_enabled=[0, 2, 3, 5, 6, 7], \n",
    "     root=[0, 'ROOT', 'ROOT', '_', 0, 'root']\n",
    ")\n",
    "utils.write_conllu(sentences_test, f2, 'UD_French-GSD/fr_gsd-ud-test.conllu', 'fr_test_f2_n.conll')\n",
    "utils.score_las('fr_test_f2_n.conll', 'UD_French-GSD/fr_gsd-ud-test.conllu')"
   ]
  },
  {
   "cell_type": "markdown",
   "metadata": {},
   "source": [
    "## F2 features English"
   ]
  },
  {
   "cell_type": "code",
   "execution_count": 53,
   "metadata": {},
   "outputs": [
    {
     "data": {
      "text/html": [
       "<div>\n",
       "<style scoped>\n",
       "    .dataframe tbody tr th:only-of-type {\n",
       "        vertical-align: middle;\n",
       "    }\n",
       "\n",
       "    .dataframe tbody tr th {\n",
       "        vertical-align: top;\n",
       "    }\n",
       "\n",
       "    .dataframe thead th {\n",
       "        text-align: right;\n",
       "    }\n",
       "</style>\n",
       "<table border=\"1\" class=\"dataframe\">\n",
       "  <thead>\n",
       "    <tr style=\"text-align: right;\">\n",
       "      <th></th>\n",
       "      <th>0</th>\n",
       "      <th>1</th>\n",
       "      <th>2</th>\n",
       "      <th>3</th>\n",
       "      <th>4</th>\n",
       "      <th>5</th>\n",
       "    </tr>\n",
       "  </thead>\n",
       "  <tbody>\n",
       "    <tr>\n",
       "      <th>0</th>\n",
       "      <td>0</td>\n",
       "      <td>ROOT</td>\n",
       "      <td>ROOT</td>\n",
       "      <td>_</td>\n",
       "      <td>0</td>\n",
       "      <td>root</td>\n",
       "    </tr>\n",
       "    <tr>\n",
       "      <th>1</th>\n",
       "      <td>1</td>\n",
       "      <td>you</td>\n",
       "      <td>PRON</td>\n",
       "      <td>_</td>\n",
       "      <td>3</td>\n",
       "      <td>nsubj</td>\n",
       "    </tr>\n",
       "    <tr>\n",
       "      <th>2</th>\n",
       "      <td>2</td>\n",
       "      <td>can</td>\n",
       "      <td>AUX</td>\n",
       "      <td>VerbForm=Fin</td>\n",
       "      <td>3</td>\n",
       "      <td>aux</td>\n",
       "    </tr>\n",
       "    <tr>\n",
       "      <th>3</th>\n",
       "      <td>3</td>\n",
       "      <td>create</td>\n",
       "      <td>VERB</td>\n",
       "      <td>VerbForm=Inf</td>\n",
       "      <td>0</td>\n",
       "      <td>root</td>\n",
       "    </tr>\n",
       "    <tr>\n",
       "      <th>4</th>\n",
       "      <td>4</td>\n",
       "      <td>sql</td>\n",
       "      <td>PROPN</td>\n",
       "      <td>Number=Sing</td>\n",
       "      <td>3</td>\n",
       "      <td>obj</td>\n",
       "    </tr>\n",
       "    <tr>\n",
       "      <th>5</th>\n",
       "      <td>5</td>\n",
       "      <td>query</td>\n",
       "      <td>NOUN</td>\n",
       "      <td>Number=Plur</td>\n",
       "      <td>4</td>\n",
       "      <td>flat</td>\n",
       "    </tr>\n",
       "    <tr>\n",
       "      <th>6</th>\n",
       "      <td>6</td>\n",
       "      <td>in</td>\n",
       "      <td>ADP</td>\n",
       "      <td>_</td>\n",
       "      <td>7</td>\n",
       "      <td>case</td>\n",
       "    </tr>\n",
       "    <tr>\n",
       "      <th>7</th>\n",
       "      <td>7</td>\n",
       "      <td>one</td>\n",
       "      <td>NUM</td>\n",
       "      <td>NumType=Card</td>\n",
       "      <td>3</td>\n",
       "      <td>obl</td>\n",
       "    </tr>\n",
       "    <tr>\n",
       "      <th>8</th>\n",
       "      <td>8</td>\n",
       "      <td>of</td>\n",
       "      <td>ADP</td>\n",
       "      <td>_</td>\n",
       "      <td>13</td>\n",
       "      <td>case</td>\n",
       "    </tr>\n",
       "    <tr>\n",
       "      <th>9</th>\n",
       "      <td>9</td>\n",
       "      <td>two</td>\n",
       "      <td>NUM</td>\n",
       "      <td>NumType=Card</td>\n",
       "      <td>13</td>\n",
       "      <td>nummod</td>\n",
       "    </tr>\n",
       "    <tr>\n",
       "      <th>10</th>\n",
       "      <td>10</td>\n",
       "      <td>ansi</td>\n",
       "      <td>PROPN</td>\n",
       "      <td>Number=Sing</td>\n",
       "      <td>13</td>\n",
       "      <td>compound</td>\n",
       "    </tr>\n",
       "    <tr>\n",
       "      <th>11</th>\n",
       "      <td>11</td>\n",
       "      <td>sql</td>\n",
       "      <td>PROPN</td>\n",
       "      <td>Number=Sing</td>\n",
       "      <td>10</td>\n",
       "      <td>flat</td>\n",
       "    </tr>\n",
       "    <tr>\n",
       "      <th>12</th>\n",
       "      <td>12</td>\n",
       "      <td>query</td>\n",
       "      <td>NOUN</td>\n",
       "      <td>Number=Sing</td>\n",
       "      <td>10</td>\n",
       "      <td>flat</td>\n",
       "    </tr>\n",
       "    <tr>\n",
       "      <th>13</th>\n",
       "      <td>13</td>\n",
       "      <td>mode</td>\n",
       "      <td>NOUN</td>\n",
       "      <td>Number=Plur</td>\n",
       "      <td>7</td>\n",
       "      <td>nmod</td>\n",
       "    </tr>\n",
       "    <tr>\n",
       "      <th>14</th>\n",
       "      <td>14</td>\n",
       "      <td>:</td>\n",
       "      <td>PUNCT</td>\n",
       "      <td>_</td>\n",
       "      <td>3</td>\n",
       "      <td>punct</td>\n",
       "    </tr>\n",
       "  </tbody>\n",
       "</table>\n",
       "</div>"
      ],
      "text/plain": [
       "     0       1      2             3   4         5\n",
       "0    0    ROOT   ROOT             _   0      root\n",
       "1    1     you   PRON             _   3     nsubj\n",
       "2    2     can    AUX  VerbForm=Fin   3       aux\n",
       "3    3  create   VERB  VerbForm=Inf   0      root\n",
       "4    4     sql  PROPN   Number=Sing   3       obj\n",
       "5    5   query   NOUN   Number=Plur   4      flat\n",
       "6    6      in    ADP             _   7      case\n",
       "7    7     one    NUM  NumType=Card   3       obl\n",
       "8    8      of    ADP             _  13      case\n",
       "9    9     two    NUM  NumType=Card  13    nummod\n",
       "10  10    ansi  PROPN   Number=Sing  13  compound\n",
       "11  11     sql  PROPN   Number=Sing  10      flat\n",
       "12  12   query   NOUN   Number=Sing  10      flat\n",
       "13  13    mode   NOUN   Number=Plur   7      nmod\n",
       "14  14       :  PUNCT             _   3     punct"
      ]
     },
     "execution_count": 53,
     "metadata": {},
     "output_type": "execute_result"
    }
   ],
   "source": [
    "sentence = f2.sentences_en_train[3]\n",
    "pd.DataFrame(sentence)"
   ]
  },
  {
   "cell_type": "markdown",
   "metadata": {},
   "source": [
    "## Morphology Exploration"
   ]
  },
  {
   "cell_type": "code",
   "execution_count": 38,
   "metadata": {},
   "outputs": [
    {
     "data": {
      "text/plain": [
       "(21319, 52834, '40.35 %')"
      ]
     },
     "execution_count": 38,
     "metadata": {},
     "output_type": "execute_result"
    }
   ],
   "source": [
    "morphos, no_morpho_count, word_count = f2.count_morphos(f2.sentences_en_train)\n",
    "no_morpho_count, word_count, '%.2f %%' % (no_morpho_count / word_count * 100)"
   ]
  },
  {
   "cell_type": "code",
   "execution_count": 19,
   "metadata": {},
   "outputs": [
    {
     "data": {
      "text/plain": [
       "83"
      ]
     },
     "execution_count": 19,
     "metadata": {},
     "output_type": "execute_result"
    }
   ],
   "source": [
    "inputs_count = 0\n",
    "for m in morphos:\n",
    "    inputs_count += len(m)\n",
    "inputs_count"
   ]
  },
  {
   "cell_type": "code",
   "execution_count": 20,
   "metadata": {},
   "outputs": [
    {
     "data": {
      "text/plain": [
       "{'Case': Counter({'Acc': 569, 'Nom': 2598}),\n",
       " 'Definite': Counter({'Def': 2836, 'Ind': 1410}),\n",
       " 'Degree': Counter({'Cmp': 112, 'Pos': 2926, 'Sup': 49}),\n",
       " 'Gender': Counter({'Fem': 222, 'Masc': 1240, 'Neut': 62}),\n",
       " 'Mood': Counter({'Imp': 68, 'Ind': 4325, 'Sub': 13}),\n",
       " 'NumType': Counter({'Card': 307, 'Mult': 35, 'Ord': 39}),\n",
       " 'Number': Counter({'Plur': 2758, 'Sing': 12209}),\n",
       " 'Person': Counter({'1': 1421, '2': 59, '3': 2575}),\n",
       " 'Poss': Counter({'Yes': 569}),\n",
       " 'PronType': Counter({'Art': 4246,\n",
       "          'Dem': 611,\n",
       "          'Int': 415,\n",
       "          'Prs': 2680,\n",
       "          'Rel': 136}),\n",
       " 'Reflex': Counter({'Yes': 109}),\n",
       " 'Tense': Counter({'Past': 3693, 'Pres': 2532}),\n",
       " 'VerbForm': Counter({'Fin': 5002, 'Inf': 1525, 'Part': 1893}),\n",
       " 'Voice': Counter({'Pass': 635})}"
      ]
     },
     "execution_count": 20,
     "metadata": {},
     "output_type": "execute_result"
    }
   ],
   "source": [
    "morphos"
   ]
  },
  {
   "cell_type": "code",
   "execution_count": 39,
   "metadata": {},
   "outputs": [],
   "source": [
    "morphos_vec = f2.morpho_2_vec(morphos)"
   ]
  },
  {
   "cell_type": "code",
   "execution_count": 22,
   "metadata": {},
   "outputs": [
    {
     "name": "stdout",
     "output_type": "stream",
     "text": [
      "VerbForm=Inf\n"
     ]
    },
    {
     "data": {
      "text/plain": [
       "array([0., 0., 0., 0., 0., 0., 0., 0., 0., 0., 0., 0., 0., 0., 0., 0., 0.,\n",
       "       1., 0., 0., 0., 0., 0., 0., 0., 0., 0., 0., 0., 0., 0., 0., 0., 0.,\n",
       "       0., 0., 0., 0., 0., 0., 0., 0., 0., 0., 0., 0., 0., 0., 0., 0., 0.,\n",
       "       0., 0., 0., 0., 0., 0., 0., 0., 0., 0., 0., 0., 0., 0., 0., 0., 0.,\n",
       "       0., 0., 0., 0., 0., 0., 0., 0., 0., 0.])"
      ]
     },
     "execution_count": 22,
     "metadata": {},
     "output_type": "execute_result"
    }
   ],
   "source": [
    "print(sentence[3][f2.morpho_i])\n",
    "f2.convert_morpho(sentence[3], morphos_vec)"
   ]
  },
  {
   "cell_type": "markdown",
   "metadata": {},
   "source": [
    "## Embeddings"
   ]
  },
  {
   "cell_type": "code",
   "execution_count": 43,
   "metadata": {},
   "outputs": [],
   "source": [
    "embeddings = f2.load_embedding_tsv('embeddings/en.tsv')"
   ]
  },
  {
   "cell_type": "code",
   "execution_count": 44,
   "metadata": {},
   "outputs": [
    {
     "name": "stdout",
     "output_type": "stream",
     "text": [
      "woman 0.23359877765856996\n",
      "boy 0.31751294165479527\n",
      "teenager 0.34130700413096493\n",
      "girl 0.4078285933644654\n",
      "robber 0.44148810178263287\n",
      "men 0.45102369737513803\n",
      "guy 0.457996425885305\n",
      "person 0.46579735930914756\n",
      "gentleman 0.46620096241249565\n",
      "motorcyclist 0.46631173426248795\n"
     ]
    }
   ],
   "source": [
    "for w, d in f2.most_similar('man', embeddings):\n",
    "    print(w, d)"
   ]
  },
  {
   "cell_type": "code",
   "execution_count": 45,
   "metadata": {},
   "outputs": [
    {
     "name": "stdout",
     "output_type": "stream",
     "text": [
      "man 0.23359877765856996\n",
      "girl 0.25053593521178563\n",
      "teenager 0.36829147456127165\n",
      "lady 0.3711213554467516\n",
      "mother 0.39236935424542707\n",
      "policewoman 0.3930537797199042\n",
      "boy 0.40240918064346376\n",
      "Woman 0.42290171922754827\n",
      "she 0.4358606590855414\n",
      "WOMAN 0.45195792197064844\n"
     ]
    }
   ],
   "source": [
    "for w, d in f2.most_similar('woman', embeddings):\n",
    "    print(w, d)"
   ]
  },
  {
   "cell_type": "code",
   "execution_count": 46,
   "metadata": {},
   "outputs": [],
   "source": [
    "mean_embedding = f2.default_embedding(embeddings, len(embeddings['man']))"
   ]
  },
  {
   "cell_type": "markdown",
   "metadata": {},
   "source": [
    "## Data"
   ]
  },
  {
   "cell_type": "code",
   "execution_count": 47,
   "metadata": {},
   "outputs": [
    {
     "data": {
      "text/plain": [
       "((50096, 793), (50096, 39))"
      ]
     },
     "execution_count": 47,
     "metadata": {},
     "output_type": "execute_result"
    }
   ],
   "source": [
    "x_train, y_train = utils.create_dataset(f2.sentences_en_train, f2, morphos_vec, embeddings, mean_embedding, with_negatives=False)\n",
    "x_train.shape, y_train.shape"
   ]
  },
  {
   "cell_type": "code",
   "execution_count": 48,
   "metadata": {},
   "outputs": [
    {
     "data": {
      "text/plain": [
       "((17102, 793), (17102, 39))"
      ]
     },
     "execution_count": 48,
     "metadata": {},
     "output_type": "execute_result"
    }
   ],
   "source": [
    "x_test, y_test = utils.create_dataset(f2.sentences_en_dev, f2, morphos_vec, embeddings, mean_embedding, with_negatives=False)\n",
    "x_test.shape, y_test.shape"
   ]
  },
  {
   "cell_type": "markdown",
   "metadata": {},
   "source": [
    "## Model"
   ]
  },
  {
   "cell_type": "code",
   "execution_count": 49,
   "metadata": {},
   "outputs": [
    {
     "name": "stdout",
     "output_type": "stream",
     "text": [
      "_________________________________________________________________\n",
      "Layer (type)                 Output Shape              Param #   \n",
      "=================================================================\n",
      "dense_7 (Dense)              (None, 393)               312042    \n",
      "_________________________________________________________________\n",
      "dense_8 (Dense)              (None, 150)               59100     \n",
      "_________________________________________________________________\n",
      "dense_9 (Dense)              (None, 39)                5889      \n",
      "=================================================================\n",
      "Total params: 377,031\n",
      "Trainable params: 377,031\n",
      "Non-trainable params: 0\n",
      "_________________________________________________________________\n"
     ]
    }
   ],
   "source": [
    "modelf2 = keras.models.Sequential()\n",
    "modelf2.add(keras.layers.Dense(393, activation='sigmoid', input_dim=793))\n",
    "modelf2.add(keras.layers.Dense(150, activation='sigmoid'))\n",
    "modelf2.add(keras.layers.Dense(39, activation='softplus'))\n",
    "\n",
    "tensorboard = keras.callbacks.TensorBoard(log_dir=\"logs/{}\".format(time.time()))\n",
    "opt = keras.optimizers.Adam(lr=0.0001)\n",
    "\n",
    "modelf2.compile(opt, 'categorical_crossentropy', metrics=['accuracy'])\n",
    "modelf2.summary()"
   ]
  },
  {
   "cell_type": "code",
   "execution_count": 50,
   "metadata": {},
   "outputs": [
    {
     "data": {
      "image/png": "[encoded data removed]",
      "text/plain": [
       "<Figure size 432x288 with 1 Axes>"
      ]
     },
     "metadata": {},
     "output_type": "display_data"
    },
    {
     "data": {
      "image/png": "[encoded data removed]",
      "text/plain": [
       "<Figure size 432x288 with 1 Axes>"
      ]
     },
     "metadata": {},
     "output_type": "display_data"
    }
   ],
   "source": [
    "h = modelf2.fit(x_train, y_train, epochs=100, batch_size=1024, validation_data=(x_test, y_test), verbose=0, callbacks=[tensorboard])\n",
    "\n",
    "x_plt = np.arange(len(h.history['loss']))\n",
    "plt.plot(x_plt, h.history['loss'], label='train')\n",
    "plt.plot(x_plt, h.history['val_loss'], label='test')\n",
    "plt.show()\n",
    "\n",
    "plt.plot(x_plt, h.history['acc'], label='train')\n",
    "plt.plot(x_plt, h.history['val_acc'], label='test')\n",
    "plt.show()"
   ]
  },
  {
   "cell_type": "markdown",
   "metadata": {},
   "source": [
    "## Eisner"
   ]
  },
  {
   "cell_type": "code",
   "execution_count": 52,
   "metadata": {},
   "outputs": [
    {
     "data": {
      "text/plain": [
       "0.2550726492991103"
      ]
     },
     "execution_count": 52,
     "metadata": {},
     "output_type": "execute_result"
    }
   ],
   "source": [
    "sentences_test = utils.predict_sentences(\n",
    "    'UD_English-LinES/en_lines-ud-test.conllu', \n",
    "     f2, \n",
    "     morphos_vec, \n",
    "     embeddings,\n",
    "     mean_embedding, \n",
    "     model=modelf2, \n",
    "     features_enabled=[0, 2, 3, 5, 6, 7], \n",
    "     root=[0, 'ROOT', 'ROOT', '_', 0, 'root']\n",
    ")\n",
    "utils.write_conllu(sentences_test, f2, 'UD_English-LinES/en_lines-ud-test.conllu', 'en_test_f2_n.conll')\n",
    "utils.score_las('en_test_f2_n.conll', 'UD_English-LinES/en_lines-ud-test.conllu')"
   ]
  },
  {
   "cell_type": "markdown",
   "metadata": {},
   "source": [
    "## F2 features Japanese"
   ]
  },
  {
   "cell_type": "code",
   "execution_count": 23,
   "metadata": {},
   "outputs": [
    {
     "data": {
      "text/html": [
       "<div>\n",
       "<style scoped>\n",
       "    .dataframe tbody tr th:only-of-type {\n",
       "        vertical-align: middle;\n",
       "    }\n",
       "\n",
       "    .dataframe tbody tr th {\n",
       "        vertical-align: top;\n",
       "    }\n",
       "\n",
       "    .dataframe thead th {\n",
       "        text-align: right;\n",
       "    }\n",
       "</style>\n",
       "<table border=\"1\" class=\"dataframe\">\n",
       "  <thead>\n",
       "    <tr style=\"text-align: right;\">\n",
       "      <th></th>\n",
       "      <th>0</th>\n",
       "      <th>1</th>\n",
       "      <th>2</th>\n",
       "      <th>3</th>\n",
       "      <th>4</th>\n",
       "      <th>5</th>\n",
       "    </tr>\n",
       "  </thead>\n",
       "  <tbody>\n",
       "    <tr>\n",
       "      <th>0</th>\n",
       "      <td>0</td>\n",
       "      <td>ROOT</td>\n",
       "      <td>ROOT</td>\n",
       "      <td>_</td>\n",
       "      <td>0</td>\n",
       "      <td>root</td>\n",
       "    </tr>\n",
       "    <tr>\n",
       "      <th>1</th>\n",
       "      <td>1</td>\n",
       "      <td>3</td>\n",
       "      <td>NUM</td>\n",
       "      <td>NumType=Card</td>\n",
       "      <td>2</td>\n",
       "      <td>nummod</td>\n",
       "    </tr>\n",
       "    <tr>\n",
       "      <th>2</th>\n",
       "      <td>2</td>\n",
       "      <td>年次</td>\n",
       "      <td>NOUN</td>\n",
       "      <td>_</td>\n",
       "      <td>10</td>\n",
       "      <td>iobj</td>\n",
       "    </tr>\n",
       "    <tr>\n",
       "      <th>3</th>\n",
       "      <td>3</td>\n",
       "      <td>に</td>\n",
       "      <td>ADP</td>\n",
       "      <td>_</td>\n",
       "      <td>2</td>\n",
       "      <td>case</td>\n",
       "    </tr>\n",
       "    <tr>\n",
       "      <th>4</th>\n",
       "      <td>4</td>\n",
       "      <td>は</td>\n",
       "      <td>ADP</td>\n",
       "      <td>_</td>\n",
       "      <td>2</td>\n",
       "      <td>case</td>\n",
       "    </tr>\n",
       "    <tr>\n",
       "      <th>5</th>\n",
       "      <td>5</td>\n",
       "      <td>トータルオフェンス</td>\n",
       "      <td>PROPN</td>\n",
       "      <td>_</td>\n",
       "      <td>10</td>\n",
       "      <td>obl</td>\n",
       "    </tr>\n",
       "    <tr>\n",
       "      <th>6</th>\n",
       "      <td>6</td>\n",
       "      <td>で</td>\n",
       "      <td>ADP</td>\n",
       "      <td>_</td>\n",
       "      <td>5</td>\n",
       "      <td>case</td>\n",
       "    </tr>\n",
       "    <tr>\n",
       "      <th>7</th>\n",
       "      <td>7</td>\n",
       "      <td>2,892</td>\n",
       "      <td>NUM</td>\n",
       "      <td>NumType=Card</td>\n",
       "      <td>8</td>\n",
       "      <td>nummod</td>\n",
       "    </tr>\n",
       "    <tr>\n",
       "      <th>8</th>\n",
       "      <td>8</td>\n",
       "      <td>ヤード</td>\n",
       "      <td>NOUN</td>\n",
       "      <td>_</td>\n",
       "      <td>10</td>\n",
       "      <td>obj</td>\n",
       "    </tr>\n",
       "    <tr>\n",
       "      <th>9</th>\n",
       "      <td>9</td>\n",
       "      <td>を</td>\n",
       "      <td>ADP</td>\n",
       "      <td>_</td>\n",
       "      <td>8</td>\n",
       "      <td>case</td>\n",
       "    </tr>\n",
       "    <tr>\n",
       "      <th>10</th>\n",
       "      <td>10</td>\n",
       "      <td>獲得</td>\n",
       "      <td>VERB</td>\n",
       "      <td>_</td>\n",
       "      <td>18</td>\n",
       "      <td>advcl</td>\n",
       "    </tr>\n",
       "    <tr>\n",
       "      <th>11</th>\n",
       "      <td>11</td>\n",
       "      <td>する</td>\n",
       "      <td>AUX</td>\n",
       "      <td>_</td>\n",
       "      <td>10</td>\n",
       "      <td>aux</td>\n",
       "    </tr>\n",
       "    <tr>\n",
       "      <th>12</th>\n",
       "      <td>12</td>\n",
       "      <td>、</td>\n",
       "      <td>PUNCT</td>\n",
       "      <td>_</td>\n",
       "      <td>10</td>\n",
       "      <td>punct</td>\n",
       "    </tr>\n",
       "    <tr>\n",
       "      <th>13</th>\n",
       "      <td>13</td>\n",
       "      <td>これ</td>\n",
       "      <td>PRON</td>\n",
       "      <td>_</td>\n",
       "      <td>18</td>\n",
       "      <td>nsubj</td>\n",
       "    </tr>\n",
       "    <tr>\n",
       "      <th>14</th>\n",
       "      <td>14</td>\n",
       "      <td>は</td>\n",
       "      <td>ADP</td>\n",
       "      <td>_</td>\n",
       "      <td>13</td>\n",
       "      <td>case</td>\n",
       "    </tr>\n",
       "    <tr>\n",
       "      <th>15</th>\n",
       "      <td>15</td>\n",
       "      <td>大学</td>\n",
       "      <td>NOUN</td>\n",
       "      <td>_</td>\n",
       "      <td>16</td>\n",
       "      <td>compound</td>\n",
       "    </tr>\n",
       "    <tr>\n",
       "      <th>16</th>\n",
       "      <td>16</td>\n",
       "      <td>記録</td>\n",
       "      <td>NOUN</td>\n",
       "      <td>_</td>\n",
       "      <td>18</td>\n",
       "      <td>obl</td>\n",
       "    </tr>\n",
       "    <tr>\n",
       "      <th>17</th>\n",
       "      <td>17</td>\n",
       "      <td>と</td>\n",
       "      <td>ADP</td>\n",
       "      <td>_</td>\n",
       "      <td>16</td>\n",
       "      <td>case</td>\n",
       "    </tr>\n",
       "    <tr>\n",
       "      <th>18</th>\n",
       "      <td>18</td>\n",
       "      <td>なる</td>\n",
       "      <td>VERB</td>\n",
       "      <td>_</td>\n",
       "      <td>0</td>\n",
       "      <td>root</td>\n",
       "    </tr>\n",
       "    <tr>\n",
       "      <th>19</th>\n",
       "      <td>19</td>\n",
       "      <td>た</td>\n",
       "      <td>AUX</td>\n",
       "      <td>_</td>\n",
       "      <td>18</td>\n",
       "      <td>aux</td>\n",
       "    </tr>\n",
       "    <tr>\n",
       "      <th>20</th>\n",
       "      <td>20</td>\n",
       "      <td>。</td>\n",
       "      <td>PUNCT</td>\n",
       "      <td>_</td>\n",
       "      <td>18</td>\n",
       "      <td>punct</td>\n",
       "    </tr>\n",
       "  </tbody>\n",
       "</table>\n",
       "</div>"
      ],
      "text/plain": [
       "     0          1      2             3   4         5\n",
       "0    0       ROOT   ROOT             _   0      root\n",
       "1    1          3    NUM  NumType=Card   2    nummod\n",
       "2    2         年次   NOUN             _  10      iobj\n",
       "3    3          に    ADP             _   2      case\n",
       "4    4          は    ADP             _   2      case\n",
       "5    5  トータルオフェンス  PROPN             _  10       obl\n",
       "6    6          で    ADP             _   5      case\n",
       "7    7      2,892    NUM  NumType=Card   8    nummod\n",
       "8    8        ヤード   NOUN             _  10       obj\n",
       "9    9          を    ADP             _   8      case\n",
       "10  10         獲得   VERB             _  18     advcl\n",
       "11  11         する    AUX             _  10       aux\n",
       "12  12          、  PUNCT             _  10     punct\n",
       "13  13         これ   PRON             _  18     nsubj\n",
       "14  14          は    ADP             _  13      case\n",
       "15  15         大学   NOUN             _  16  compound\n",
       "16  16         記録   NOUN             _  18       obl\n",
       "17  17          と    ADP             _  16      case\n",
       "18  18         なる   VERB             _   0      root\n",
       "19  19          た    AUX             _  18       aux\n",
       "20  20          。  PUNCT             _  18     punct"
      ]
     },
     "execution_count": 23,
     "metadata": {},
     "output_type": "execute_result"
    }
   ],
   "source": [
    "sentence = f2.sentences_ja_train[3]\n",
    "pd.DataFrame(sentence)"
   ]
  },
  {
   "cell_type": "markdown",
   "metadata": {},
   "source": [
    "## Morphology Exploration"
   ]
  },
  {
   "cell_type": "code",
   "execution_count": 24,
   "metadata": {},
   "outputs": [
    {
     "data": {
      "text/plain": [
       "(163678, 167552, '97.69 %')"
      ]
     },
     "execution_count": 24,
     "metadata": {},
     "output_type": "execute_result"
    }
   ],
   "source": [
    "morphos, no_morpho_count, word_count = f2.count_morphos(f2.sentences_ja_train)\n",
    "no_morpho_count, word_count, '%.2f %%' % (no_morpho_count / word_count * 100)"
   ]
  },
  {
   "cell_type": "code",
   "execution_count": 25,
   "metadata": {},
   "outputs": [
    {
     "data": {
      "text/plain": [
       "7"
      ]
     },
     "execution_count": 25,
     "metadata": {},
     "output_type": "execute_result"
    }
   ],
   "source": [
    "inputs_count = 0\n",
    "for m in morphos:\n",
    "    inputs_count += len(m)\n",
    "inputs_count"
   ]
  },
  {
   "cell_type": "code",
   "execution_count": 26,
   "metadata": {},
   "outputs": [
    {
     "data": {
      "text/plain": [
       "{'NumType': Counter({'Card': 3874})}"
      ]
     },
     "execution_count": 26,
     "metadata": {},
     "output_type": "execute_result"
    }
   ],
   "source": [
    "morphos"
   ]
  },
  {
   "cell_type": "code",
   "execution_count": 27,
   "metadata": {},
   "outputs": [],
   "source": [
    "morphos_vec = f2.morpho_2_vec(morphos)"
   ]
  },
  {
   "cell_type": "code",
   "execution_count": 28,
   "metadata": {},
   "outputs": [
    {
     "name": "stdout",
     "output_type": "stream",
     "text": [
      "_\n"
     ]
    },
    {
     "data": {
      "text/plain": [
       "array([0., 0., 0., 0., 0., 0., 0., 0., 0., 0., 0., 0., 0., 0., 0., 0., 0.,\n",
       "       0., 0., 0., 0., 0., 0., 0., 0., 0., 0., 0., 0., 0., 0., 0., 0., 0.,\n",
       "       0., 0., 0., 0., 0., 0., 0., 0., 0., 0., 0., 0., 0., 0., 0., 0., 0.,\n",
       "       0., 0., 0., 0., 0., 0., 0., 0., 0., 0., 0., 0., 0., 0., 0., 0., 0.,\n",
       "       0., 0., 0., 0., 0., 0., 0., 0., 0., 0.])"
      ]
     },
     "execution_count": 28,
     "metadata": {},
     "output_type": "execute_result"
    }
   ],
   "source": [
    "print(sentence[3][f2.morpho_i])\n",
    "f2.convert_morpho(sentence[3], morphos_vec)"
   ]
  },
  {
   "cell_type": "markdown",
   "metadata": {},
   "source": [
    "## Embeddings"
   ]
  },
  {
   "cell_type": "code",
   "execution_count": 29,
   "metadata": {},
   "outputs": [],
   "source": [
    "embeddings = f2.load_embedding_tsv('embeddings/ja.tsv')"
   ]
  },
  {
   "cell_type": "code",
   "execution_count": 31,
   "metadata": {},
   "outputs": [],
   "source": [
    "mean_embedding = f2.default_embedding(embeddings, 300)"
   ]
  },
  {
   "cell_type": "markdown",
   "metadata": {},
   "source": [
    "## Data"
   ]
  },
  {
   "cell_type": "code",
   "execution_count": 33,
   "metadata": {},
   "outputs": [
    {
     "data": {
      "text/plain": [
       "((160419, 793), (160419, 39))"
      ]
     },
     "execution_count": 33,
     "metadata": {},
     "output_type": "execute_result"
    }
   ],
   "source": [
    "x_train, y_train = utils.create_dataset(f2.sentences_ja_train, f2, morphos_vec, embeddings, mean_embedding, with_negatives=False)\n",
    "x_train.shape, y_train.shape"
   ]
  },
  {
   "cell_type": "code",
   "execution_count": 34,
   "metadata": {},
   "outputs": [
    {
     "data": {
      "text/plain": [
       "((35768, 793), (35768, 39))"
      ]
     },
     "execution_count": 34,
     "metadata": {},
     "output_type": "execute_result"
    }
   ],
   "source": [
    "x_test, y_test = utils.create_dataset(f2.sentences_fr_dev, f2, morphos_vec, embeddings, mean_embedding, with_negatives=False)\n",
    "x_test.shape, y_test.shape"
   ]
  },
  {
   "cell_type": "markdown",
   "metadata": {},
   "source": [
    "## Model"
   ]
  },
  {
   "cell_type": "code",
   "execution_count": 35,
   "metadata": {},
   "outputs": [
    {
     "name": "stdout",
     "output_type": "stream",
     "text": [
      "_________________________________________________________________\n",
      "Layer (type)                 Output Shape              Param #   \n",
      "=================================================================\n",
      "dense_4 (Dense)              (None, 393)               312042    \n",
      "_________________________________________________________________\n",
      "dense_5 (Dense)              (None, 150)               59100     \n",
      "_________________________________________________________________\n",
      "dense_6 (Dense)              (None, 39)                5889      \n",
      "=================================================================\n",
      "Total params: 377,031\n",
      "Trainable params: 377,031\n",
      "Non-trainable params: 0\n",
      "_________________________________________________________________\n"
     ]
    }
   ],
   "source": [
    "modelf2 = keras.models.Sequential()\n",
    "modelf2.add(keras.layers.Dense(393, activation='sigmoid', input_dim=793))\n",
    "modelf2.add(keras.layers.Dense(150, activation='sigmoid'))\n",
    "modelf2.add(keras.layers.Dense(39, activation='softplus'))\n",
    "\n",
    "tensorboard = keras.callbacks.TensorBoard(log_dir=\"logs/{}\".format(time.time()))\n",
    "opt = keras.optimizers.Adam(lr=0.0001)\n",
    "\n",
    "modelf2.compile(opt, 'categorical_crossentropy', metrics=['accuracy'])\n",
    "modelf2.summary()"
   ]
  },
  {
   "cell_type": "code",
   "execution_count": 36,
   "metadata": {},
   "outputs": [
    {
     "data": {
      "image/png": "[encoded data removed]",
      "text/plain": [
       "<Figure size 432x288 with 1 Axes>"
      ]
     },
     "metadata": {},
     "output_type": "display_data"
    },
    {
     "data": {
      "image/png": "[encoded data removed]",
      "text/plain": [
       "<Figure size 432x288 with 1 Axes>"
      ]
     },
     "metadata": {},
     "output_type": "display_data"
    }
   ],
   "source": [
    "h = modelf2.fit(x_train, y_train, epochs=70, batch_size=1024, validation_data=(x_test, y_test), verbose=0, callbacks=[tensorboard])\n",
    "\n",
    "x_plt = np.arange(len(h.history['loss']))\n",
    "plt.plot(x_plt, h.history['loss'], label='train')\n",
    "plt.plot(x_plt, h.history['val_loss'], label='test')\n",
    "plt.show()\n",
    "\n",
    "plt.plot(x_plt, h.history['acc'], label='train')\n",
    "plt.plot(x_plt, h.history['val_acc'], label='test')\n",
    "plt.show()"
   ]
  },
  {
   "cell_type": "markdown",
   "metadata": {},
   "source": [
    "## Eisner"
   ]
  },
  {
   "cell_type": "code",
   "execution_count": 37,
   "metadata": {},
   "outputs": [
    {
     "data": {
      "text/plain": [
       "0.5850619070590127"
      ]
     },
     "execution_count": 37,
     "metadata": {},
     "output_type": "execute_result"
    }
   ],
   "source": [
    "sentences_test = utils.predict_sentences(\n",
    "    'UD_Japanese-GSD-master/ja_gsd-ud-test.conllu', \n",
    "     f2, \n",
    "     morphos_vec, \n",
    "     embeddings,\n",
    "     mean_embedding, \n",
    "     model=modelf2, \n",
    "     features_enabled=[0, 2, 3, 5, 6, 7], \n",
    "     root=[0, 'ROOT', 'ROOT', '_', 0, 'root']\n",
    ")\n",
    "utils.write_conllu(sentences_test, f2, 'UD_Japanese-GSD-master/ja_gsd-ud-test.conllu', 'ja_test_f2_n.conll')\n",
    "utils.score_las('ja_test_f2_n.conll', 'UD_Japanese-GSD-master/ja_gsd-ud-test.conllu')"
   ]
  },
  {
   "cell_type": "markdown",
   "metadata": {},
   "source": [
    "## F2 features Dutch"
   ]
  },
  {
   "cell_type": "code",
   "execution_count": 54,
   "metadata": {},
   "outputs": [
    {
     "data": {
      "text/html": [
       "<div>\n",
       "<style scoped>\n",
       "    .dataframe tbody tr th:only-of-type {\n",
       "        vertical-align: middle;\n",
       "    }\n",
       "\n",
       "    .dataframe tbody tr th {\n",
       "        vertical-align: top;\n",
       "    }\n",
       "\n",
       "    .dataframe thead th {\n",
       "        text-align: right;\n",
       "    }\n",
       "</style>\n",
       "<table border=\"1\" class=\"dataframe\">\n",
       "  <thead>\n",
       "    <tr style=\"text-align: right;\">\n",
       "      <th></th>\n",
       "      <th>0</th>\n",
       "      <th>1</th>\n",
       "      <th>2</th>\n",
       "      <th>3</th>\n",
       "      <th>4</th>\n",
       "      <th>5</th>\n",
       "    </tr>\n",
       "  </thead>\n",
       "  <tbody>\n",
       "    <tr>\n",
       "      <th>0</th>\n",
       "      <td>0</td>\n",
       "      <td>ROOT</td>\n",
       "      <td>ROOT</td>\n",
       "      <td>_</td>\n",
       "      <td>0</td>\n",
       "      <td>root</td>\n",
       "    </tr>\n",
       "    <tr>\n",
       "      <th>1</th>\n",
       "      <td>1</td>\n",
       "      <td>museum</td>\n",
       "      <td>NOUN</td>\n",
       "      <td>Number=Plur</td>\n",
       "      <td>0</td>\n",
       "      <td>root</td>\n",
       "    </tr>\n",
       "    <tr>\n",
       "      <th>2</th>\n",
       "      <td>2</td>\n",
       "      <td>:</td>\n",
       "      <td>PUNCT</td>\n",
       "      <td>_</td>\n",
       "      <td>1</td>\n",
       "      <td>punct</td>\n",
       "    </tr>\n",
       "  </tbody>\n",
       "</table>\n",
       "</div>"
      ],
      "text/plain": [
       "   0       1      2            3  4      5\n",
       "0  0    ROOT   ROOT            _  0   root\n",
       "1  1  museum   NOUN  Number=Plur  0   root\n",
       "2  2       :  PUNCT            _  1  punct"
      ]
     },
     "execution_count": 54,
     "metadata": {},
     "output_type": "execute_result"
    }
   ],
   "source": [
    "sentence = f2.sentences_nl_train[3]\n",
    "pd.DataFrame(sentence)"
   ]
  },
  {
   "cell_type": "markdown",
   "metadata": {},
   "source": [
    "## Morphology Exploration"
   ]
  },
  {
   "cell_type": "code",
   "execution_count": 55,
   "metadata": {},
   "outputs": [
    {
     "data": {
      "text/plain": [
       "(41380, 80923, '51.14 %')"
      ]
     },
     "execution_count": 55,
     "metadata": {},
     "output_type": "execute_result"
    }
   ],
   "source": [
    "morphos, no_morpho_count, word_count = f2.count_morphos(f2.sentences_nl_train)\n",
    "no_morpho_count, word_count, '%.2f %%' % (no_morpho_count / word_count * 100)"
   ]
  },
  {
   "cell_type": "code",
   "execution_count": 56,
   "metadata": {},
   "outputs": [
    {
     "data": {
      "text/plain": [
       "74"
      ]
     },
     "execution_count": 56,
     "metadata": {},
     "output_type": "execute_result"
    }
   ],
   "source": [
    "inputs_count = 0\n",
    "for m in morphos:\n",
    "    inputs_count += len(m)\n",
    "inputs_count"
   ]
  },
  {
   "cell_type": "code",
   "execution_count": 57,
   "metadata": {},
   "outputs": [
    {
     "data": {
      "text/plain": [
       "{'Abbr': Counter({'Yes': 36}),\n",
       " 'Case': Counter({'Acc': 244, 'Nom': 394}),\n",
       " 'Definite': Counter({'Def': 6194, 'Ind': 1278}),\n",
       " 'Degree': Counter({'Cmp': 191, 'Pos': 4649, 'Sup': 188}),\n",
       " 'Foreign': Counter({'Yes': 280}),\n",
       " 'Gender': Counter({'Com': 8298, 'Com,Neut': 89, 'Neut': 5356}),\n",
       " 'Number': Counter({'Plur': 4365, 'Sing': 17439}),\n",
       " 'Person': Counter({'1': 49, '2': 21, '3': 1807}),\n",
       " 'PronType': Counter({'Dem': 147,\n",
       "          'Ind': 307,\n",
       "          'Int': 37,\n",
       "          'Prs': 1622,\n",
       "          'Rcp': 19,\n",
       "          'Rel': 363}),\n",
       " 'Reflex': Counter({'Yes': 167}),\n",
       " 'Tense': Counter({'Past': 2075, 'Pres': 2577}),\n",
       " 'VerbForm': Counter({'Fin': 4652, 'Inf': 854, 'Part': 1574})}"
      ]
     },
     "execution_count": 57,
     "metadata": {},
     "output_type": "execute_result"
    }
   ],
   "source": [
    "morphos"
   ]
  },
  {
   "cell_type": "code",
   "execution_count": 58,
   "metadata": {},
   "outputs": [],
   "source": [
    "morphos_vec = f2.morpho_2_vec(morphos)"
   ]
  },
  {
   "cell_type": "code",
   "execution_count": 60,
   "metadata": {},
   "outputs": [
    {
     "name": "stdout",
     "output_type": "stream",
     "text": [
      "Number=Plur\n"
     ]
    },
    {
     "data": {
      "text/plain": [
       "array([0., 0., 1., 0., 0., 0., 0., 0., 0., 0., 0., 0., 0., 0., 0., 0., 0.,\n",
       "       0., 0., 0., 0., 0., 0., 0., 0., 0., 0., 0., 0., 0., 0., 0., 0., 0.,\n",
       "       0., 0., 0., 0., 0., 0., 0., 0., 0., 0., 0., 0., 0., 0., 0., 0., 0.,\n",
       "       0., 0., 0., 0., 0., 0., 0., 0., 0., 0., 0., 0., 0., 0., 0., 0., 0.,\n",
       "       0., 0., 0., 0., 0., 0., 0., 0., 0., 0.])"
      ]
     },
     "execution_count": 60,
     "metadata": {},
     "output_type": "execute_result"
    }
   ],
   "source": [
    "print(sentence[1][f2.morpho_i])\n",
    "f2.convert_morpho(sentence[1], morphos_vec)"
   ]
  },
  {
   "cell_type": "markdown",
   "metadata": {},
   "source": [
    "## Embeddings"
   ]
  },
  {
   "cell_type": "code",
   "execution_count": 61,
   "metadata": {},
   "outputs": [],
   "source": [
    "embeddings = f2.load_embedding_tsv('embeddings/nl.tsv')"
   ]
  },
  {
   "cell_type": "code",
   "execution_count": 62,
   "metadata": {},
   "outputs": [],
   "source": [
    "mean_embedding = f2.default_embedding(embeddings, 300)"
   ]
  },
  {
   "cell_type": "markdown",
   "metadata": {},
   "source": [
    "## Data"
   ]
  },
  {
   "cell_type": "code",
   "execution_count": 63,
   "metadata": {},
   "outputs": [
    {
     "data": {
      "text/plain": [
       "((75134, 793), (75134, 39))"
      ]
     },
     "execution_count": 63,
     "metadata": {},
     "output_type": "execute_result"
    }
   ],
   "source": [
    "x_train, y_train = utils.create_dataset(f2.sentences_nl_train, f2, morphos_vec, embeddings, mean_embedding, with_negatives=False)\n",
    "x_train.shape, y_train.shape"
   ]
  },
  {
   "cell_type": "code",
   "execution_count": 64,
   "metadata": {},
   "outputs": [
    {
     "data": {
      "text/plain": [
       "((11397, 793), (11397, 39))"
      ]
     },
     "execution_count": 64,
     "metadata": {},
     "output_type": "execute_result"
    }
   ],
   "source": [
    "x_test, y_test = utils.create_dataset(f2.sentences_nl_dev, f2, morphos_vec, embeddings, mean_embedding, with_negatives=False)\n",
    "x_test.shape, y_test.shape"
   ]
  },
  {
   "cell_type": "markdown",
   "metadata": {},
   "source": [
    "## Model"
   ]
  },
  {
   "cell_type": "code",
   "execution_count": 65,
   "metadata": {},
   "outputs": [
    {
     "name": "stdout",
     "output_type": "stream",
     "text": [
      "_________________________________________________________________\n",
      "Layer (type)                 Output Shape              Param #   \n",
      "=================================================================\n",
      "dense_10 (Dense)             (None, 393)               312042    \n",
      "_________________________________________________________________\n",
      "dense_11 (Dense)             (None, 150)               59100     \n",
      "_________________________________________________________________\n",
      "dense_12 (Dense)             (None, 39)                5889      \n",
      "=================================================================\n",
      "Total params: 377,031\n",
      "Trainable params: 377,031\n",
      "Non-trainable params: 0\n",
      "_________________________________________________________________\n"
     ]
    }
   ],
   "source": [
    "modelf2 = keras.models.Sequential()\n",
    "modelf2.add(keras.layers.Dense(393, activation='sigmoid', input_dim=793))\n",
    "modelf2.add(keras.layers.Dense(150, activation='sigmoid'))\n",
    "modelf2.add(keras.layers.Dense(39, activation='softplus'))\n",
    "\n",
    "tensorboard = keras.callbacks.TensorBoard(log_dir=\"logs/{}\".format(time.time()))\n",
    "opt = keras.optimizers.Adam(lr=0.0001)\n",
    "\n",
    "modelf2.compile(opt, 'categorical_crossentropy', metrics=['accuracy'])\n",
    "modelf2.summary()"
   ]
  },
  {
   "cell_type": "code",
   "execution_count": 66,
   "metadata": {},
   "outputs": [
    {
     "data": {
      "image/png": "[encoded data removed]",
      "text/plain": [
       "<Figure size 432x288 with 1 Axes>"
      ]
     },
     "metadata": {},
     "output_type": "display_data"
    },
    {
     "data": {
      "image/png": "[encoded data removed]",
      "text/plain": [
       "<Figure size 432x288 with 1 Axes>"
      ]
     },
     "metadata": {},
     "output_type": "display_data"
    }
   ],
   "source": [
    "h = modelf2.fit(x_train, y_train, epochs=70, batch_size=1024, validation_data=(x_test, y_test), verbose=0, callbacks=[tensorboard])\n",
    "\n",
    "x_plt = np.arange(len(h.history['loss']))\n",
    "plt.plot(x_plt, h.history['loss'], label='train')\n",
    "plt.plot(x_plt, h.history['val_loss'], label='test')\n",
    "plt.show()\n",
    "\n",
    "plt.plot(x_plt, h.history['acc'], label='train')\n",
    "plt.plot(x_plt, h.history['val_acc'], label='test')\n",
    "plt.show()"
   ]
  },
  {
   "cell_type": "markdown",
   "metadata": {},
   "source": [
    "## Eisner"
   ]
  },
  {
   "cell_type": "code",
   "execution_count": 67,
   "metadata": {},
   "outputs": [
    {
     "data": {
      "text/plain": [
       "0.4295093296475466"
      ]
     },
     "execution_count": 67,
     "metadata": {},
     "output_type": "execute_result"
    }
   ],
   "source": [
    "sentences_test = utils.predict_sentences(\n",
    "    'UD_Dutch-LassySmall/nl_lassysmall-ud-test.conllu', \n",
    "     f2, \n",
    "     morphos_vec, \n",
    "     embeddings,\n",
    "     mean_embedding, \n",
    "     model=modelf2, \n",
    "     features_enabled=[0, 2, 3, 5, 6, 7], \n",
    "     root=[0, 'ROOT', 'ROOT', '_', 0, 'root']\n",
    ")\n",
    "utils.write_conllu(sentences_test, f2, 'UD_Dutch-LassySmall/nl_lassysmall-ud-test.conllu', 'nl_test_f2_n.conll')\n",
    "utils.score_las('nl_test_f2_n.conll', 'UD_Dutch-LassySmall/nl_lassysmall-ud-test.conllu')"
   ]
  },
  {
   "cell_type": "markdown",
   "metadata": {},
   "source": [
    "## F3 features"
   ]
  },
  {
   "cell_type": "code",
   "execution_count": null,
   "metadata": {},
   "outputs": [],
   "source": [
    "sentence = f3.sentences_fr_train[3]\n",
    "pd.DataFrame(sentence)"
   ]
  },
  {
   "cell_type": "code",
   "execution_count": null,
   "metadata": {},
   "outputs": [],
   "source": [
    "x_train, y_train = utils.create_dataset(f3.sentences_fr_train, f3, morphos_vec, embeddings, mean_embedding, False)\n",
    "x_train.shape, y_train.shape"
   ]
  },
  {
   "cell_type": "code",
   "execution_count": null,
   "metadata": {},
   "outputs": [],
   "source": [
    "x_test, y_test = utils.create_dataset(f3.sentences_fr_dev, f3, morphos_vec, embeddings, mean_embedding, False)\n",
    "x_test.shape, y_test.shape"
   ]
  },
  {
   "cell_type": "code",
   "execution_count": null,
   "metadata": {},
   "outputs": [],
   "source": [
    "x1 = keras.layers.Input(shape=(757,))\n",
    "x = keras.layers.Dense(393, activation='sigmoid')(x1)\n",
    "\n",
    "y1 = keras.layers.Input(shape=(54,))\n",
    "y = keras.layers.Reshape((3, -1))(y1)\n",
    "\n",
    "z1 = keras.layers.Input(shape=(54,))\n",
    "z = keras.layers.Reshape((3, -1))(z1)\n",
    "for i in range(1):\n",
    "    y = keras.layers.LSTM(18,activation='sigmoid',return_sequences=True)(y)\n",
    "    y = keras.layers.BatchNormalization()(y)\n",
    "    z = keras.layers.LSTM(18,activation='sigmoid',recurrent_dropout=0.3,return_sequences=True)(z)\n",
    "    z = keras.layers.BatchNormalization()(z)\n",
    "y = keras.layers.LSTM(18,activation='sigmoid')(y)\n",
    "y = keras.layers.BatchNormalization()(y)\n",
    "z = keras.layers.LSTM(18,activation='sigmoid')(z)\n",
    "z = keras.layers.BatchNormalization()(z)\n",
    "\n",
    "x = keras.layers.concatenate([x, y, z])\n",
    "\n",
    "x = keras.layers.Dense(400, activation='sigmoid')(x)\n",
    "x = keras.layers.Dense(150, activation='sigmoid')(x)\n",
    "x = keras.layers.Dense(39, activation='softplus')(x)\n",
    "\n",
    "modelf3 = keras.models.Model(inputs=[x1, y1, z1], outputs=[x])\n",
    "\n",
    "tensorboard = keras.callbacks.TensorBoard(log_dir=\"logs/{}\".format(time.time()))\n",
    "opt = keras.optimizers.Adam(amsgrad=True,decay=0.001)\n",
    "\n",
    "modelf3.compile(opt, 'categorical_crossentropy', metrics=['accuracy'])\n",
    "modelf3.summary()"
   ]
  },
  {
   "cell_type": "code",
   "execution_count": null,
   "metadata": {},
   "outputs": [],
   "source": [
    "from IPython.core.display import HTML\n",
    "HTML(\"\"\"\n",
    "<style>\n",
    ".p-Widget.jp-OutputPrompt.jp-OutputArea-prompt:empty {\n",
    "  padding: 0;\n",
    "  border: 0;\n",
    "}\n",
    "</style>\n",
    "\"\"\")"
   ]
  },
  {
   "cell_type": "code",
   "execution_count": null,
   "metadata": {},
   "outputs": [],
   "source": [
    "from keras_tqdm import TQDMNotebookCallback\n",
    "h = modelf3.fit([x_train[:, :757], x_train[:, 757:811], x_train[:, 811:]], y_train, \n",
    "                epochs=45, \n",
    "                batch_size=1024, \n",
    "                validation_data=([x_test[:, :757], x_test[:, 757:811], x_test[:, 811:]], y_test), \n",
    "                verbose=0, \n",
    "                callbacks=[tensorboard,TQDMNotebookCallback(leave_inner=False)])\n",
    "\n",
    "x_plt = np.arange(len(h.history['loss']))\n",
    "plt.plot(x_plt, h.history['loss'], label='train')\n",
    "plt.plot(x_plt, h.history['val_loss'], label='test')\n",
    "plt.show()\n",
    "\n",
    "plt.plot(x_plt, h.history['acc'], label='train')\n",
    "plt.plot(x_plt, h.history['val_acc'], label='test')\n",
    "plt.show()"
   ]
  },
  {
   "cell_type": "code",
   "execution_count": null,
   "metadata": {},
   "outputs": [],
   "source": [
    "sentences_test = utils.predict_sentences(\n",
    "    'UD_French-GSD/fr_gsd-ud-test.conllu', \n",
    "     f3, \n",
    "     morphos_vec, \n",
    "     embeddings,\n",
    "     mean_embedding, \n",
    "     True, \n",
    "     model=modelf3, \n",
    "     features_enabled=[0, 2, 3, 5, 6, 7], \n",
    "     root=[0, 'ROOT', 'ROOT', '_', 0, 'root'],\n",
    "     sentences_callback=f3.add_neighbors_pos\n",
    ")\n",
    "utils.write_conllu(sentences_test, f3, 'UD_French-GSD/fr_gsd-ud-test.conllu', 'fr_test_f3_n.conll')\n",
    "utils.score_las('fr_test_f3_n.conll', 'UD_French-GSD/fr_gsd-ud-test.conllu')"
   ]
  },
  {
   "cell_type": "code",
   "execution_count": null,
   "metadata": {},
   "outputs": [],
   "source": []
  },
  {
   "cell_type": "code",
   "execution_count": null,
   "metadata": {},
   "outputs": [],
   "source": []
  }
 ],
 "metadata": {
  "colab": {
   "collapsed_sections": [],
   "name": "1DGAN_v1.ipynb",
   "provenance": [],
   "version": "0.3.2"
  },
  "kernelspec": {
   "display_name": "Python 3",
   "language": "python",
   "name": "python3"
  },
  "language_info": {
   "codemirror_mode": {
    "name": "ipython",
    "version": 3
   },
   "file_extension": ".py",
   "mimetype": "text/x-python",
   "name": "python",
   "nbconvert_exporter": "python",
   "pygments_lexer": "ipython3",
   "version": "3.5.3"
  },
  "toc-autonumbering": true,
  "toc-showmarkdowntxt": true,
  "toc-showtags": false
 },
 "nbformat": 4,
 "nbformat_minor": 2
}
